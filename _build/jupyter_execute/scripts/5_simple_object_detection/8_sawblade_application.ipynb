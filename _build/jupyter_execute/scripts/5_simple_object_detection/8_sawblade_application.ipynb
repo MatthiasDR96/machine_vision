{
 "cells": [
  {
   "cell_type": "markdown",
   "metadata": {},
   "source": [
    "# Sawblade analysis"
   ]
  },
  {
   "cell_type": "code",
   "execution_count": 1,
   "metadata": {},
   "outputs": [
    {
     "ename": "ModuleNotFoundError",
     "evalue": "No module named 'k_means_constrained'",
     "output_type": "error",
     "traceback": [
      "\u001b[1;31m---------------------------------------------------------------------------\u001b[0m",
      "\u001b[1;31mModuleNotFoundError\u001b[0m                       Traceback (most recent call last)",
      "Cell \u001b[1;32mIn[1], line 6\u001b[0m\n\u001b[0;32m      4\u001b[0m \u001b[38;5;28;01mimport\u001b[39;00m \u001b[38;5;21;01mnumpy\u001b[39;00m \u001b[38;5;28;01mas\u001b[39;00m \u001b[38;5;21;01mnp\u001b[39;00m\n\u001b[0;32m      5\u001b[0m \u001b[38;5;28;01mimport\u001b[39;00m \u001b[38;5;21;01mmatplotlib\u001b[39;00m\u001b[38;5;21;01m.\u001b[39;00m\u001b[38;5;21;01mpyplot\u001b[39;00m \u001b[38;5;28;01mas\u001b[39;00m \u001b[38;5;21;01mplt\u001b[39;00m\n\u001b[1;32m----> 6\u001b[0m \u001b[38;5;28;01mfrom\u001b[39;00m \u001b[38;5;21;01mk_means_constrained\u001b[39;00m \u001b[38;5;28;01mimport\u001b[39;00m KMeansConstrained\n",
      "\u001b[1;31mModuleNotFoundError\u001b[0m: No module named 'k_means_constrained'"
     ]
    }
   ],
   "source": [
    "# Imports\n",
    "import cv2\n",
    "import math\n",
    "import numpy as np\n",
    "import matplotlib.pyplot as plt\n",
    "from k_means_constrained import KMeansConstrained"
   ]
  },
  {
   "cell_type": "code",
   "execution_count": null,
   "metadata": {},
   "outputs": [],
   "source": [
    "# Load image\n",
    "image = cv2.imread('../../data/5teeth.PNG')"
   ]
  },
  {
   "cell_type": "code",
   "execution_count": null,
   "metadata": {},
   "outputs": [],
   "source": [
    "# Convert image to grayscale\n",
    "gray = cv2.cvtColor(image, cv2.COLOR_BGR2GRAY)\n",
    "\n",
    "# Threshold\n",
    "ret, treshold_output = cv2.threshold(gray, 230, 255, cv2.THRESH_BINARY)\n",
    "\n",
    "# Canny edge detection\n",
    "canny = cv2.Canny(treshold_output, 50, 200, None, 3)\n",
    "\n",
    "# Show\n",
    "plt.imshow(canny, cmap='gray')"
   ]
  },
  {
   "cell_type": "code",
   "execution_count": null,
   "metadata": {},
   "outputs": [],
   "source": [
    "# Probablistic Hough Transform\n",
    "lines = cv2.HoughLinesP(canny, 1, np.pi / 18000, 50, None, 50, 3)\n",
    "\n",
    "# Get points \n",
    "points = []\n",
    "for i in range(0, len(lines)):\n",
    "    l = lines[i][0]\n",
    "    cv2.line(image, (l[0], l[1]), (l[2], l[3]), (255, 0, 0), 2, cv2.LINE_AA)\n",
    "    points.append([l[0],l[1]])\n",
    "    points.append([l[2], l[3]])\n",
    "\n",
    "# Plot\n",
    "plt.imshow(image)"
   ]
  },
  {
   "cell_type": "code",
   "execution_count": null,
   "metadata": {},
   "outputs": [],
   "source": [
    "# Cluster points by teeth\n",
    "points = np.array(points)\n",
    "kmeans = KMeansConstrained(n_clusters=5, size_min=2, size_max=4, random_state=0).fit(Y)\n",
    "label = kmeans.fit_predict(points)\n",
    "labels = np.unique(label)\n",
    "\n",
    "# Plotting the results:\n",
    "for i in labels:\n",
    "    plt.scatter(points[label == i, 0], points[label == i, 1], label=i)\n",
    "plt.legend()\n",
    "plt.show()"
   ]
  },
  {
   "cell_type": "code",
   "execution_count": null,
   "metadata": {},
   "outputs": [],
   "source": [
    "# Grouping lines togheter for every tooth\n",
    "lines = []\n",
    "for i in range(max(kmeans.labels_)+1):\n",
    "    sublist = []\n",
    "    for i_label in range(len(kmeans.labels_)):\n",
    "        if kmeans.labels_[i_label] == i:\n",
    "            sublist.append(points[i_label])\n",
    "    lines.append(sublist)"
   ]
  },
  {
   "cell_type": "code",
   "execution_count": null,
   "metadata": {},
   "outputs": [],
   "source": [
    "# Calculate angle for every cluster\n",
    "angles = []\n",
    "for i in range(len(lines)):\n",
    "    if len(lines[i]) > 2:\n",
    "        rico_line1 = (lines[i][1][1] - lines[i][0][1]) / (lines[i][1][0] - lines[i][0][0])\n",
    "        rico_line2 = (lines[i][3][1] - lines[i][2][1]) / (lines[i][3][0] - lines[i][2][0])\n",
    "        angle_rad_1 = math.atan(rico_line1)\n",
    "        angle_rad_2 = math.atan(rico_line2)\n",
    "        angle_rad = angle_rad_2 - angle_rad_1\n",
    "        angle_deg = angle_rad / math.pi * 180\n",
    "        angles.append([round(angle_deg,1), kmeans.cluster_centers_.tolist()[i]])\n",
    "\n",
    "# Visualise angles on the original image\n",
    "font = cv2.FONT_HERSHEY_SIMPLEX\n",
    "for i in angles:\n",
    "    angle = i[0]\n",
    "    x = int(i[1][0])\n",
    "    y = int(i[1][1])\n",
    "    string = str(angle)\n",
    "    cv2.putText(image, string, (x,y), font, 0.8, (0,255,0), 2, cv2.LINE_AA)\n",
    "    cv2.putText(image, \"0\", (x+60,y-20), font, 0.3, (0,255,0), 1, cv2.LINE_AA)\n",
    "\n",
    "# Show\n",
    "plt.imshow(image)"
   ]
  }
 ],
 "metadata": {
  "kernelspec": {
   "display_name": "Python 3.8.0 64-bit",
   "language": "python",
   "name": "python3"
  },
  "language_info": {
   "codemirror_mode": {
    "name": "ipython",
    "version": 3
   },
   "file_extension": ".py",
   "mimetype": "text/x-python",
   "name": "python",
   "nbconvert_exporter": "python",
   "pygments_lexer": "ipython3",
   "version": "3.9.0"
  },
  "vscode": {
   "interpreter": {
    "hash": "9650cb4e16cdd4a8e8e2d128bf38d875813998db22a3c986335f89e0cb4d7bb2"
   }
  }
 },
 "nbformat": 4,
 "nbformat_minor": 2
}