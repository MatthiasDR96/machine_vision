{
 "cells": [
  {
   "cell_type": "markdown",
   "metadata": {},
   "source": [
    "# Motion detection"
   ]
  },
  {
   "cell_type": "code",
   "execution_count": null,
   "metadata": {},
   "outputs": [],
   "source": [
    "# Imports\n",
    "import cv2\n",
    "import numpy as np\n",
    "import matplotlib.pyplot as plt"
   ]
  },
  {
   "cell_type": "code",
   "execution_count": null,
   "metadata": {},
   "outputs": [],
   "source": [
    "# Get video object\n",
    "vidcap = cv2.VideoCapture('../../data/motion_detection.mp4')\n",
    "success,image = vidcap.read()\n",
    "cv2.imwrite('../../data/motion_detection_1.jpg', image)     # save frame as JPEG file      \n",
    "success,image = vidcap.read()\n",
    "cv2.imwrite('../../data/motion_detection_2.jpg', image)     # save frame as JPEG file  "
   ]
  },
  {
   "cell_type": "code",
   "execution_count": null,
   "metadata": {},
   "outputs": [],
   "source": [
    "# Load image\n",
    "image1 = cv2.imread('../../data/motion_detection_1.jpg')\n",
    "image2 = cv2.imread('../../data/motion_detection_2.jpg')\n",
    "\n",
    "# Convert to grayscale\n",
    "gray1 = cv2.cvtColor(image1, cv2.COLOR_BGR2GRAY)\n",
    "gray2 = cv2.cvtColor(image2, cv2.COLOR_BGR2GRAY)\n",
    "\n",
    "# Smooth image\n",
    "smooth1 = cv2.GaussianBlur(gray1, ksize=(5,5), sigmaX=0)\n",
    "smooth2 = cv2.GaussianBlur(gray2, ksize=(5,5), sigmaX=0)\n",
    "\n",
    "# Calculate difference\n",
    "diff_frame = cv2.absdiff(smooth1, smooth2)\n",
    "\n",
    "# Show\n",
    "plt.imshow(diff_frame, cmap='gray')\n",
    "plt.show()"
   ]
  },
  {
   "cell_type": "code",
   "execution_count": null,
   "metadata": {},
   "outputs": [],
   "source": [
    "# Only take different areas that are different enough\n",
    "thresh_frame = cv2.threshold(diff_frame, thresh=30, maxval=255, type=cv2.THRESH_BINARY)[1]\n",
    "\n",
    "# Show\n",
    "plt.imshow(thresh_frame, cmap='gray')\n",
    "plt.show()"
   ]
  },
  {
   "cell_type": "code",
   "execution_count": null,
   "metadata": {},
   "outputs": [],
   "source": [
    "# Closing\n",
    "kernel = np.ones((100, 100), np.uint8)\n",
    "closed_frame = cv2.morphologyEx(thresh_frame, cv2.MORPH_CLOSE, kernel)\n",
    "\n",
    "# Find contours\n",
    "contours, _ = cv2.findContours(closed_frame, mode=cv2.RETR_EXTERNAL, method=cv2.CHAIN_APPROX_SIMPLE)\n",
    "\n",
    "# Show\n",
    "plt.imshow(closed_frame, cmap='gray')\n",
    "plt.show()"
   ]
  },
  {
   "cell_type": "code",
   "execution_count": null,
   "metadata": {},
   "outputs": [],
   "source": [
    "\n",
    "# Find contours\n",
    "contours, _ = cv2.findContours(closed_frame, mode=cv2.RETR_EXTERNAL, method=cv2.CHAIN_APPROX_SIMPLE)\n",
    "\n",
    "# Draw contours\n",
    "image_with_contours = cv2.drawContours(np.copy(image2), contours=contours, contourIdx=-1, color=(0, 255, 0), thickness=2, lineType=cv2.LINE_AA)\n",
    "\n",
    "# Show\n",
    "plt.imshow(image_with_contours)\n",
    "plt.show()"
   ]
  },
  {
   "cell_type": "code",
   "execution_count": null,
   "metadata": {},
   "outputs": [],
   "source": [
    "# Filter contours and draw bounding box\n",
    "for contour in contours:\n",
    "  if cv2.contourArea(contour) > 2000:\n",
    "    (x, y, w, h) = cv2.boundingRect(contour)\n",
    "    cv2.rectangle(image2, pt1=(x, y), pt2=(x + w, y + h), color=(0, 255, 0), thickness=2)\n",
    "\n",
    "# Show\n",
    "plt.imshow(image2)\n",
    "plt.show()"
   ]
  }
 ],
 "metadata": {
  "kernelspec": {
   "display_name": "Python 3.8.0 64-bit",
   "language": "python",
   "name": "python3"
  },
  "language_info": {
   "codemirror_mode": {
    "name": "ipython",
    "version": 3
   },
   "file_extension": ".py",
   "mimetype": "text/x-python",
   "name": "python",
   "nbconvert_exporter": "python",
   "pygments_lexer": "ipython3",
   "version": "3.8.0"
  },
  "vscode": {
   "interpreter": {
    "hash": "9650cb4e16cdd4a8e8e2d128bf38d875813998db22a3c986335f89e0cb4d7bb2"
   }
  }
 },
 "nbformat": 4,
 "nbformat_minor": 2
}