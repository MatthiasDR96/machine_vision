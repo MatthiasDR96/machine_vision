{
 "cells": [
  {
   "cell_type": "markdown",
   "metadata": {},
   "source": [
    "# Fish detection application"
   ]
  },
  {
   "cell_type": "code",
   "execution_count": 1,
   "metadata": {},
   "outputs": [],
   "source": [
    "# Imports\n",
    "import cv2\n",
    "import numpy as np\n",
    "import matplotlib.pyplot as plt"
   ]
  },
  {
   "cell_type": "code",
   "execution_count": 2,
   "metadata": {},
   "outputs": [],
   "source": [
    "# Get video object\n",
    "vidcap = cv2.VideoCapture('../../data/pladijs_plexiglas_licht.mp4')"
   ]
  },
  {
   "cell_type": "code",
   "execution_count": 3,
   "metadata": {},
   "outputs": [
    {
     "ename": "KeyboardInterrupt",
     "evalue": "",
     "output_type": "error",
     "traceback": [
      "\u001b[1;31m---------------------------------------------------------------------------\u001b[0m",
      "\u001b[1;31mKeyboardInterrupt\u001b[0m                         Traceback (most recent call last)",
      "Cell \u001b[1;32mIn[3], line 8\u001b[0m\n\u001b[0;32m      4\u001b[0m \u001b[38;5;66;03m# Loop\u001b[39;00m\n\u001b[0;32m      5\u001b[0m \u001b[38;5;28;01mwhile\u001b[39;00m \u001b[38;5;28;01mTrue\u001b[39;00m:\n\u001b[0;32m      6\u001b[0m     \n\u001b[0;32m      7\u001b[0m     \u001b[38;5;66;03m# Load image\u001b[39;00m\n\u001b[1;32m----> 8\u001b[0m     success,image2 \u001b[38;5;241m=\u001b[39m \u001b[43mvidcap\u001b[49m\u001b[38;5;241;43m.\u001b[39;49m\u001b[43mread\u001b[49m\u001b[43m(\u001b[49m\u001b[43m)\u001b[49m\n\u001b[0;32m      9\u001b[0m     \u001b[38;5;28;01mif\u001b[39;00m \u001b[38;5;129;01mnot\u001b[39;00m success:\n\u001b[0;32m     10\u001b[0m         \u001b[38;5;28;01mcontinue\u001b[39;00m\n",
      "\u001b[1;31mKeyboardInterrupt\u001b[0m: "
     ]
    }
   ],
   "source": [
    "# Read first image\n",
    "success,image1 = vidcap.read()\n",
    "\n",
    "# Loop\n",
    "while True:\n",
    "    \n",
    "    # Load image\n",
    "    success,image2 = vidcap.read()\n",
    "    if not success:\n",
    "        continue\n",
    "\n",
    "    # Convert to grayscale\n",
    "    gray1 = cv2.cvtColor(image1, cv2.COLOR_BGR2GRAY)\n",
    "    gray2 = cv2.cvtColor(image2, cv2.COLOR_BGR2GRAY)\n",
    "\n",
    "    # Smooth image\n",
    "    smooth1 = cv2.GaussianBlur(gray1, ksize=(5,5), sigmaX=0)\n",
    "    smooth2 = cv2.GaussianBlur(gray2, ksize=(5,5), sigmaX=0)\n",
    "\n",
    "    # Calculate difference\n",
    "    diff_frame = cv2.absdiff(smooth1, smooth2)\n",
    "\n",
    "    # Only take different areas that are different enough\n",
    "    thresh_frame = cv2.threshold(diff_frame, thresh=30, maxval=255, type=cv2.THRESH_BINARY)[1]\n",
    "\n",
    "    # Closing\n",
    "    kernel = np.ones((100, 100), np.uint8)\n",
    "    closed_frame = cv2.morphologyEx(thresh_frame, cv2.MORPH_CLOSE, kernel)\n",
    "\n",
    "    # Find contours\n",
    "    contours, _ = cv2.findContours(closed_frame, mode=cv2.RETR_EXTERNAL, method=cv2.CHAIN_APPROX_SIMPLE)\n",
    "\n",
    "    # Draw contours\n",
    "    image_with_contours = cv2.drawContours(np.copy(image2), contours=contours, contourIdx=-1, color=(0, 255, 0), thickness=2, lineType=cv2.LINE_AA)\n",
    "\n",
    "    # Filter contours and draw bounding box\n",
    "    image_with_box = np.copy(image2)\n",
    "    for contour in contours:\n",
    "        if cv2.contourArea(contour) > 2000:\n",
    "            (x, y, w, h) = cv2.boundingRect(contour)\n",
    "            cv2.rectangle(image_with_box, pt1=(x, y), pt2=(x + w, y + h), color=(0, 255, 0), thickness=2)\n",
    "\n",
    "    # Display the image\n",
    "    cv2.imshow('live video', image_with_box)\n",
    " \n",
    "    # wait for user to press any key\n",
    "    key = cv2.waitKey(1)\n",
    "\n",
    "    # Renew image\n",
    "    image1 = image2"
   ]
  }
 ],
 "metadata": {
  "kernelspec": {
   "display_name": "Python 3.8.0 64-bit",
   "language": "python",
   "name": "python3"
  },
  "language_info": {
   "codemirror_mode": {
    "name": "ipython",
    "version": 3
   },
   "file_extension": ".py",
   "mimetype": "text/x-python",
   "name": "python",
   "nbconvert_exporter": "python",
   "pygments_lexer": "ipython3",
   "version": "3.9.0"
  },
  "vscode": {
   "interpreter": {
    "hash": "9650cb4e16cdd4a8e8e2d128bf38d875813998db22a3c986335f89e0cb4d7bb2"
   }
  }
 },
 "nbformat": 4,
 "nbformat_minor": 2
}