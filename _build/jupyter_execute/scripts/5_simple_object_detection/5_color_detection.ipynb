{
 "cells": [
  {
   "cell_type": "markdown",
   "metadata": {},
   "source": [
    "# Color detection"
   ]
  },
  {
   "cell_type": "code",
   "execution_count": null,
   "metadata": {},
   "outputs": [],
   "source": [
    "# Imports\n",
    "import cv2\n",
    "import glob\n",
    "import numpy as np\n",
    "import matplotlib.pyplot as plt\n",
    "from sklearn.cluster import KMeans"
   ]
  },
  {
   "cell_type": "code",
   "execution_count": null,
   "metadata": {},
   "outputs": [],
   "source": [
    "# Load image\n",
    "images_path_names = glob.glob('../../data/resistor_data/img_*.png')\n",
    "image = cv2.imread(images_path_names[12])\n",
    "image = cv2.cvtColor(image, cv2.COLOR_BGR2RGB)\n",
    "plt.imshow(image)"
   ]
  },
  {
   "cell_type": "code",
   "execution_count": null,
   "metadata": {},
   "outputs": [],
   "source": [
    "# Convert to grayscale\n",
    "gray = cv2.cvtColor(image, cv2.COLOR_RGB2GRAY)\n",
    "\n",
    "# Load resistor haar cascade classifier\n",
    "rectcascade = cv2.CascadeClassifier(\"../../data/haar_cascade_files/haarcascade_resistors_0.xml\")\n",
    "\n",
    "# Detect resistor\n",
    "resistors = rectcascade.detectMultiScale(gray)\n",
    "\n",
    "# Create the bounding box around the detected resistor\n",
    "for (x, y, w, h) in resistors:\n",
    "    roi_gray = gray[y:y + h, x:x + w]\n",
    "    roi_color = image[y:y + h, x:x + w]\n",
    "\n",
    "# Apply bilateral filter \n",
    "roi_bil = cv2.bilateralFilter(roi_color, 9,75,75)\n",
    "            \n",
    "# Show image of detected resistor and save it in folder 'images_code'\n",
    "plt.imshow(roi_bil)"
   ]
  },
  {
   "cell_type": "code",
   "execution_count": null,
   "metadata": {},
   "outputs": [],
   "source": [
    "# To grayscale\n",
    "gray = cv2.cvtColor(roi_bil, cv2.COLOR_BGR2GRAY)\n",
    "\n",
    "# Threshold grayscale image to extract glare\n",
    "mask = cv2.threshold(gray, 160, 255, cv2.THRESH_BINARY)[1]\n",
    "\n",
    "# use mask with input to do inpainting\n",
    "roi_bil = cv2.inpaint(roi_bil, mask, 10, cv2.INPAINT_NS) \n",
    "\n",
    "# Show image of detected resistor and save it in folder 'images_code'\n",
    "plt.imshow(roi_bil)"
   ]
  },
  {
   "cell_type": "code",
   "execution_count": null,
   "metadata": {},
   "outputs": [],
   "source": [
    "# Prepare data\n",
    "data = roi_bil.reshape(np.shape(roi_bil)[0]*np.shape(roi_bil)[1], np.shape(roi_bil)[2])\n",
    "data = np.float32(data)\n",
    "\n",
    "# Cluster data\n",
    "clt = KMeans(n_clusters = 10)\n",
    "clt.fit(data)\n",
    "\n",
    "# New image\n",
    "band_data = {}\n",
    "labels = np.unique(clt.labels_)\n",
    "for i in labels:\n",
    "\n",
    "    # Get image\n",
    "    new_image = np.uint8(clt.labels_.reshape(np.shape(roi_bil)[0], np.shape(roi_bil)[1])==i)\n",
    "\n",
    "    # Canny\n",
    "    kernel = np.ones((10,10),np.uint8)\n",
    "    new_image = cv2.morphologyEx(new_image, cv2.MORPH_OPEN, kernel)\n",
    "\n",
    "    # Find contours\n",
    "    contours, hierarchy = cv2.findContours(new_image, cv2.RETR_TREE, cv2.CHAIN_APPROX_NONE)\n",
    "    \n",
    "    # Loop over contours\n",
    "    for cnt in contours:\n",
    "\n",
    "        # Find area of contour\n",
    "        area = cv2.contourArea(cnt)\n",
    "\n",
    "        # Find aspect ratio of contour\n",
    "        x,y,w,h = cv2.boundingRect(cnt)\n",
    "        aspect_ratio = float(w)/h\n",
    "\n",
    "        # Find center of contour\n",
    "        M = cv2.moments(cnt)\n",
    "        cX = int(M[\"m10\"] / M[\"m00\"])\n",
    "        cY = int(M[\"m01\"] / M[\"m00\"])\n",
    "\n",
    "        # Filter contours\n",
    "        if aspect_ratio < 0.5 and area > 500:\n",
    "\n",
    "            # Add band to band data\n",
    "            band_data[cX] = roi_color[new_image == 1]\n",
    "\n",
    "            # Draw contour\n",
    "            cv2.drawContours(roi_color, cnt, -1, (0, 255, 0), 2)\n",
    "\n",
    "        # Plot\n",
    "        plt.subplot(len(labels), 1, i+1)\n",
    "        plt.imshow(new_image)\n",
    "\n",
    "# Plot\n",
    "plt.figure(2)\n",
    "plt.imshow(roi_color)\n"
   ]
  }
 ],
 "metadata": {
  "kernelspec": {
   "display_name": "Python 3.8.0 64-bit",
   "language": "python",
   "name": "python3"
  },
  "language_info": {
   "codemirror_mode": {
    "name": "ipython",
    "version": 3
   },
   "file_extension": ".py",
   "mimetype": "text/x-python",
   "name": "python",
   "nbconvert_exporter": "python",
   "pygments_lexer": "ipython3",
   "version": "3.8.0"
  },
  "vscode": {
   "interpreter": {
    "hash": "9650cb4e16cdd4a8e8e2d128bf38d875813998db22a3c986335f89e0cb4d7bb2"
   }
  }
 },
 "nbformat": 4,
 "nbformat_minor": 2
}