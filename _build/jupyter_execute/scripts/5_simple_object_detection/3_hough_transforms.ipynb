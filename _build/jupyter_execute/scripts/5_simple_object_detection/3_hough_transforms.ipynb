{
 "cells": [
  {
   "cell_type": "markdown",
   "metadata": {},
   "source": [
    "# Hough transforms"
   ]
  },
  {
   "cell_type": "code",
   "execution_count": null,
   "metadata": {},
   "outputs": [],
   "source": [
    "# Imports\n",
    "import cv2\n",
    "import numpy as np\n",
    "import matplotlib.pyplot as plt"
   ]
  },
  {
   "cell_type": "code",
   "execution_count": null,
   "metadata": {},
   "outputs": [],
   "source": [
    "# Load images\n",
    "image1 = cv2.imread('../../data/contours.png')\n",
    "image2 = cv2.imread('../../data/sudoku.jpg')\n",
    "image3 = cv2.imread('../../data/beer_cans.jpg')"
   ]
  },
  {
   "cell_type": "markdown",
   "metadata": {},
   "source": [
    "### Hough line detection"
   ]
  },
  {
   "cell_type": "code",
   "execution_count": null,
   "metadata": {},
   "outputs": [],
   "source": [
    "# Converting RGB image to grayscale\n",
    "gray = cv2.cvtColor(image2, cv2.COLOR_BGR2GRAY)\n",
    "\n",
    "# Compute edges\n",
    "canny = cv2.Canny(gray, 50, 200)\n",
    "\n",
    "# Search Houghlines\n",
    "lines = cv2.HoughLines(canny, 1, np.pi/180, 200)\n",
    "\n",
    "# Run for loop through each line\n",
    "for line in lines:\n",
    "    rho, theta = line[0]\n",
    "    a = np.cos(theta)\n",
    "    b = np.sin(theta)\n",
    "    x0 = a * rho\n",
    "    y0 = b * rho\n",
    "    x_1 = int(x0 + 1000 * (-b))\n",
    "    y_1 = int(y0 + 1000 * (a))\n",
    "    x_2 = int(x0 - 1000 * (-b))\n",
    "    y_2 = int(y0 - 1000 * (a))\n",
    "    cv2.line(image2, (x_1, y_1), (x_2, y_2), (255, 0, 0), 2)\n",
    "    \n",
    "# Show Final output\n",
    "plt.imshow(image2)\n",
    "plt.show()"
   ]
  },
  {
   "cell_type": "markdown",
   "metadata": {},
   "source": [
    "### Hough circle detection"
   ]
  },
  {
   "cell_type": "code",
   "execution_count": null,
   "metadata": {},
   "outputs": [],
   "source": [
    "# Converting RGB image to grayscale\n",
    "gray = cv2.cvtColor(image3, cv2.COLOR_BGR2GRAY)\n",
    "\n",
    "# Calculate the contours from binary image\n",
    "canny = cv2.Canny(gray, 50, 200)\n",
    "\n",
    "# Search Houghlines\n",
    "rows = gray.shape[0]\n",
    "circles = cv2.HoughCircles(gray, cv2.HOUGH_GRADIENT, 1, rows / 8, param1=100, param2=30, minRadius=120, maxRadius=150)\n",
    "\n",
    "# Run for loop through each line\n",
    "for circle in circles[0, :]:\n",
    "    center = (int(circle[0]), int(circle[1]))\n",
    "    cv2.circle(image3, center, 1, (0, 100, 100), 3)\n",
    "    radius = int(circle[2])\n",
    "    cv2.circle(image3, center, radius, (255, 0, 255), 3)\n",
    "    \n",
    "# Show Final output\n",
    "plt.imshow(image3)\n",
    "plt.show()"
   ]
  }
 ],
 "metadata": {
  "kernelspec": {
   "display_name": "Python 3.8.0 64-bit",
   "language": "python",
   "name": "python3"
  },
  "language_info": {
   "codemirror_mode": {
    "name": "ipython",
    "version": 3
   },
   "file_extension": ".py",
   "mimetype": "text/x-python",
   "name": "python",
   "nbconvert_exporter": "python",
   "pygments_lexer": "ipython3",
   "version": "3.8.0"
  },
  "vscode": {
   "interpreter": {
    "hash": "9650cb4e16cdd4a8e8e2d128bf38d875813998db22a3c986335f89e0cb4d7bb2"
   }
  }
 },
 "nbformat": 4,
 "nbformat_minor": 2
}