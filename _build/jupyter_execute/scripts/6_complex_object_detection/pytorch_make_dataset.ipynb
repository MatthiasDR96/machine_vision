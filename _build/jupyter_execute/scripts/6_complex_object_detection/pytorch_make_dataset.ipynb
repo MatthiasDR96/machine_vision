{
 "cells": [
  {
   "cell_type": "markdown",
   "metadata": {},
   "source": [
    "# Make dataset"
   ]
  },
  {
   "cell_type": "code",
   "execution_count": null,
   "metadata": {},
   "outputs": [],
   "source": [
    "# Imports\n",
    "import glob\n",
    "import cv2\n",
    "import numpy as np\n",
    "import torch\n",
    "from torch.utils.data import Dataset, DataLoader"
   ]
  },
  {
   "cell_type": "code",
   "execution_count": null,
   "metadata": {},
   "outputs": [],
   "source": [
    "# Create dataset class\n",
    "class CustomDataset(Dataset):\n",
    "\n",
    "    def __init__(self):\n",
    "\n",
    "        # Get folder paths\n",
    "        self.imgs_path = \"./data/dogs_cats_dataset/\"\n",
    "        file_list = glob.glob(self.imgs_path + \"*\")\n",
    "\n",
    "        # Get all datapaths for each class\n",
    "        self.data = []\n",
    "        for class_path in file_list:\n",
    "            class_name = class_path.split(\"\\\\\")[-1]\n",
    "            print(class_name)\n",
    "            print(glob.glob(class_path + \"\\\\*.jpg\"))\n",
    "            for img_path in glob.glob(class_path + \"\\\\*.jpg\"):\n",
    "                self.data.append([img_path, class_name])\n",
    "\n",
    "        # Maps the string of the class to an integer\n",
    "        self.class_map = {\"dogs\" : 0, \"cats\": 1}\n",
    "\n",
    "        # Resizeing of all images\n",
    "        self.img_dim = (416, 416)\n",
    "\n",
    "    def __len__(self):\n",
    "        return len(self.data)\n",
    "    \n",
    "    def __getitem__(self, idx):\n",
    "\n",
    "        # Get image and resize\n",
    "        img_path, class_name = self.data[idx]\n",
    "        img = cv2.imread(img_path)\n",
    "        img = cv2.resize(img, self.img_dim)\n",
    "\n",
    "        # Difine class\n",
    "        class_id = self.class_map[class_name]\n",
    "\n",
    "        # Make tensor\n",
    "        img_tensor = torch.from_numpy(img)\n",
    "        img_tensor = img_tensor.permute(2, 0, 1)\n",
    "        class_id = torch.tensor([class_id])\n",
    "        return img_tensor, class_id"
   ]
  },
  {
   "cell_type": "code",
   "execution_count": null,
   "metadata": {},
   "outputs": [],
   "source": [
    "# Use dataset\n",
    "dataset = CustomDataset()\n",
    "data_loader = DataLoader(dataset, batch_size=4, shuffle=True)\n",
    "for imgs, labels in data_loader:\n",
    "    print(\"Batch of images has shape: \", imgs.shape)\n",
    "    print(\"Batch of labels has shape: \", labels.shape)"
   ]
  }
 ],
 "metadata": {
  "kernelspec": {
   "display_name": "Python 3.8.0 64-bit",
   "language": "python",
   "name": "python3"
  },
  "language_info": {
   "codemirror_mode": {
    "name": "ipython",
    "version": 3
   },
   "file_extension": ".py",
   "mimetype": "text/x-python",
   "name": "python",
   "nbconvert_exporter": "python",
   "pygments_lexer": "ipython3",
   "version": "3.8.0"
  },
  "vscode": {
   "interpreter": {
    "hash": "9650cb4e16cdd4a8e8e2d128bf38d875813998db22a3c986335f89e0cb4d7bb2"
   }
  }
 },
 "nbformat": 4,
 "nbformat_minor": 2
}