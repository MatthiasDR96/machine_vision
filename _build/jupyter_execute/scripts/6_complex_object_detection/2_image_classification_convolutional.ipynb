{
 "cells": [
  {
   "attachments": {},
   "cell_type": "markdown",
   "metadata": {},
   "source": [
    "# Image Classification using convolutional layers\n",
    "In this notebook, a Convolutional Neural Network will be build from scratch and trained on the MNIST dataset. The MNIST dataset is a dataset containing hand-written images of digits. The end goal is to label the images with their corresponding digit. Take a look at the Feedforward Neural Network Image Classification of the MNIST dataset for the exploring of the MNIST dataset and the explanation about the data preparation.    "
   ]
  },
  {
   "cell_type": "code",
   "execution_count": 1,
   "metadata": {},
   "outputs": [
    {
     "name": "stderr",
     "output_type": "stream",
     "text": [
      "c:\\python39\\lib\\site-packages\\tqdm\\auto.py:21: TqdmWarning: IProgress not found. Please update jupyter and ipywidgets. See https://ipywidgets.readthedocs.io/en/stable/user_install.html\n",
      "  from .autonotebook import tqdm as notebook_tqdm\n"
     ]
    },
    {
     "name": "stderr",
     "output_type": "stream",
     "text": [
      "c:\\python39\\lib\\site-packages\\torchaudio\\backend\\utils.py:66: UserWarning: No audio backend is available.\n",
      "  warnings.warn(\"No audio backend is available.\")\n"
     ]
    }
   ],
   "source": [
    "# Imports\n",
    "import copy\n",
    "import torch\n",
    "import random\n",
    "import numpy as np\n",
    "import torch.nn as nn \n",
    "from torch.optim import SGD \n",
    "import matplotlib.pyplot as plt\n",
    "import torch.nn.functional as F\n",
    "import torchvision.datasets as datasets \n",
    "import torchvision.transforms as transforms\n",
    "from torchmetrics.classification import MulticlassAccuracy \n",
    "from torch.utils.data import Dataset, DataLoader, random_split"
   ]
  },
  {
   "attachments": {},
   "cell_type": "markdown",
   "metadata": {},
   "source": [
    "## Creating the dataset class\n",
    "In this part, a class will be created for the datasets. This class will contain Python functions such as length of the dataset and get the specific item (=slicing) from the dataset."
   ]
  },
  {
   "cell_type": "code",
   "execution_count": 2,
   "metadata": {},
   "outputs": [],
   "source": [
    "class Custom_Dataset(Dataset):\n",
    "\n",
    "    def __init__(self, data):\n",
    "\n",
    "        # The data is split into images and labels\n",
    "        self.x, self.y = data\n",
    "\n",
    "        # The pixel values are converted to doubles\n",
    "        self.x = self.x/ 255.\n",
    "\n",
    "        # The labels are encoded \n",
    "        self.y = F.one_hot(self.y, num_classes=10).to(float)\n",
    "\n",
    "    # This function can always return the size of the dataset\n",
    "    def __len__(self):\n",
    "        return self.x.shape[0]\n",
    "\n",
    "    # This function can always retrieve an item from the dataset\n",
    "    def __getitem__(self, ix):\n",
    "        return self.x[ix], self.y[ix]"
   ]
  },
  {
   "cell_type": "code",
   "execution_count": 3,
   "metadata": {},
   "outputs": [],
   "source": [
    "# Define transforms that will be applied to the downloaded images\n",
    "transform = transforms.Compose([transforms.ToTensor(), transforms.Normalize((0.5,), (0.5,)),])\n",
    "\n",
    "# Load MNIST training and test dataset\n",
    "mnist_trainset = datasets.MNIST(root='../../data', train=True, download=False, transform=transform)\n",
    "mnist_testset = datasets.MNIST(root='../../data', train=False, download=False, transform=transform)\n",
    "\n",
    "# Create dataloaders\n",
    "train_loader = torch.utils.data.DataLoader(mnist_trainset, batch_size=10, shuffle=True)\n",
    "valid_loader = torch.utils.data.DataLoader(mnist_testset, batch_size=10, shuffle=True)\n",
    "\n",
    "# Create a total dataloader dictionary\n",
    "dataloaders = {'train': train_loader, 'valid': valid_loader}"
   ]
  },
  {
   "attachments": {},
   "cell_type": "markdown",
   "metadata": {},
   "source": [
    "## Creating the neural network model class\n",
    "In this section, a definition of the Neural Network will be created. In this example, two convolutional layers followed by a ReLU non-linearity and average pooling are the first part of the Convolutional Neural Network. The last part is the flattening of the feature maps followed by the linear layers."
   ]
  },
  {
   "cell_type": "code",
   "execution_count": 4,
   "metadata": {},
   "outputs": [],
   "source": [
    "class NeuralNet(nn.Module):\n",
    "\n",
    "    def __init__(self):\n",
    "        super().__init__()\n",
    "\n",
    "        # Convolutional layer where the input image will be converted to 16 feature maps\n",
    "        self.conv1 = nn.Sequential(\n",
    "            nn.Conv2d(1, 16, 5, stride=1, padding=2),\n",
    "            nn.ReLU(), # ReLU activation\n",
    "            nn.AvgPool2d(2, stride=2) # Average pooling layer\n",
    "        )\n",
    "\n",
    "        # Convolutional layer where the previous 16 feature maps will be converted to 32 feature maps\n",
    "        self.conv2 = nn.Sequential(\n",
    "            nn.Conv2d(16, 32 , 5, stride=1, padding=2),\n",
    "            nn.ReLU(), # ReLU activation\n",
    "            nn.AvgPool2d(2, stride=2) # Average pooling layer\n",
    "        )\n",
    "\n",
    "        # Output layer where the 32 feature maps get flattened to a vector of 10\n",
    "        self.out = nn.Linear(32*7*7,10)\n",
    "\n",
    "    # This function executs the forward pass of an image x to the neural net\n",
    "    def forward(self,x):\n",
    "        x = self.conv1(x) # Passing the input image through the first convolutional layer\n",
    "        x = self.conv2(x) # Passing the resulting feature maps through the second convolutional layer\n",
    "        x = x.view(x.size(0),-1) # The output of the last convolutional layer is flattened (batch size, 32x7x7)\n",
    "        x = self.out(x)\n",
    "        return x\n",
    "\n",
    "# Create the neural net object\n",
    "model = NeuralNet()"
   ]
  },
  {
   "attachments": {},
   "cell_type": "markdown",
   "metadata": {},
   "source": [
    "## Model training\n",
    "A function is created to automise the training of the Convolutional Neural Network."
   ]
  },
  {
   "cell_type": "code",
   "execution_count": 5,
   "metadata": {},
   "outputs": [],
   "source": [
    "# Search for the available training device on the computer\n",
    "device = torch.device(\"cuda:0\" if torch.cuda.is_available() else \"cpu\")"
   ]
  },
  {
   "cell_type": "code",
   "execution_count": 6,
   "metadata": {},
   "outputs": [],
   "source": [
    "def train_model(model, optimizer, criterum, n_epochs=20):\n",
    "\n",
    "    # Learning curves\n",
    "    results = {\"training_acc\": [], \"training_loss\": [], \"validation_acc\": [], \"validation_loss\": []}\n",
    "\n",
    "    # Loop over all epochs\n",
    "    best_loss = float('inf')\n",
    "    for epoch in range(n_epochs):\n",
    "\n",
    "        # Debug\n",
    "        print('Epoch {}/{}'.format(epoch+1, n_epochs))\n",
    "        print('-'*10)\n",
    "\n",
    "        # Each epoch has a training and validation phase\n",
    "        for phase in ['train','valid']:\n",
    "\n",
    "            # Set the network state dependent on the phase\n",
    "            if phase == 'train':\n",
    "                model.train()\n",
    "            else:\n",
    "                model.eval()\n",
    "\n",
    "            # Reset the losses and corrects at the start of each epoch\n",
    "            running_loss = 0.0\n",
    "            running_corrects = 0.0\n",
    "\n",
    "            # Extract batches from the data loaders untill all batches are retrieved\n",
    "            num_samples = 0\n",
    "            for inputs, labels in dataloaders[phase]:\n",
    "\n",
    "                # Inputs shape\n",
    "                batch_size, c, h, w = inputs.shape\n",
    "\n",
    "                # Store the inputs and labels to the selected device\n",
    "                inputs = inputs.to(device)  \n",
    "                labels = labels.to(device)  \n",
    "\n",
    "                # Forward pass through the network\n",
    "                outputs = model(inputs)\n",
    "\n",
    "                # Softmax transforms the output probabilities into one selected class\n",
    "                _, class_pred = torch.max(outputs, 1)\n",
    "\n",
    "                # Compute the loss of the batch\n",
    "                loss = criterium(outputs, labels)\n",
    "                \n",
    "                # Update the losses and corrects for this batch\n",
    "                running_loss += loss.item() * batch_size\n",
    "                running_corrects += class_pred.eq(labels).sum().item()\n",
    "\n",
    "                # Calculate total samples\n",
    "                num_samples += batch_size\n",
    "\n",
    "                # If in training phase, adapt the model paramters to account for the losses\n",
    "                if phase=='train':\n",
    "                    optimizer.zero_grad() # Pytorch keeps track of the gradients over multiple epochs, therefore initialise it to 0\n",
    "                    loss.backward() # Calculate the weight gradients (Backward Propagation)\n",
    "                    optimizer.step() # Update the model parameters using the defined optimizer \n",
    "                    \n",
    "            # Save results\n",
    "            if phase == 'train':\n",
    "                results['training_acc'].append((running_corrects/num_samples)*100)\n",
    "                results['training_loss'].append(running_loss/num_samples)\n",
    "                print(\"train_acc %.3f train_loss %.3f\" % (running_corrects/num_samples, running_loss/num_samples))\n",
    "            elif phase == 'valid':\n",
    "                results['validation_acc'].append((running_corrects/num_samples)*100)\n",
    "                results['validation_loss'].append(running_loss/num_samples)\n",
    "                print(\"val_acc %.3f val_loss %.3f\" % (running_corrects/num_samples, running_loss/num_samples))\n",
    "\n",
    "        # Save model\n",
    "        if loss < best_loss:\n",
    "            torch.save(model, '../../models/classification_model.pt')\n",
    "            best_loss = loss\n",
    "\n",
    "    return results\n"
   ]
  },
  {
   "cell_type": "code",
   "execution_count": 7,
   "metadata": {},
   "outputs": [
    {
     "name": "stdout",
     "output_type": "stream",
     "text": [
      "Epoch 1/10\n",
      "----------\n"
     ]
    },
    {
     "name": "stdout",
     "output_type": "stream",
     "text": [
      "train_acc 0.692 train_loss 1.045\n"
     ]
    },
    {
     "name": "stdout",
     "output_type": "stream",
     "text": [
      "val_acc 0.882 val_loss 0.385\n",
      "Epoch 2/10\n",
      "----------\n"
     ]
    },
    {
     "name": "stdout",
     "output_type": "stream",
     "text": [
      "train_acc 0.891 train_loss 0.361\n"
     ]
    },
    {
     "name": "stdout",
     "output_type": "stream",
     "text": [
      "val_acc 0.909 val_loss 0.304\n",
      "Epoch 3/10\n",
      "----------\n"
     ]
    },
    {
     "name": "stdout",
     "output_type": "stream",
     "text": [
      "train_acc 0.914 train_loss 0.284\n"
     ]
    },
    {
     "name": "stdout",
     "output_type": "stream",
     "text": [
      "val_acc 0.929 val_loss 0.244\n",
      "Epoch 4/10\n",
      "----------\n"
     ]
    },
    {
     "name": "stdout",
     "output_type": "stream",
     "text": [
      "train_acc 0.932 train_loss 0.230\n"
     ]
    },
    {
     "name": "stdout",
     "output_type": "stream",
     "text": [
      "val_acc 0.940 val_loss 0.194\n",
      "Epoch 5/10\n",
      "----------\n"
     ]
    },
    {
     "name": "stdout",
     "output_type": "stream",
     "text": [
      "train_acc 0.943 train_loss 0.191\n"
     ]
    },
    {
     "name": "stdout",
     "output_type": "stream",
     "text": [
      "val_acc 0.951 val_loss 0.165\n",
      "Epoch 6/10\n",
      "----------\n"
     ]
    },
    {
     "name": "stdout",
     "output_type": "stream",
     "text": [
      "train_acc 0.951 train_loss 0.163\n"
     ]
    },
    {
     "name": "stdout",
     "output_type": "stream",
     "text": [
      "val_acc 0.958 val_loss 0.145\n",
      "Epoch 7/10\n",
      "----------\n"
     ]
    },
    {
     "name": "stdout",
     "output_type": "stream",
     "text": [
      "train_acc 0.957 train_loss 0.143\n"
     ]
    },
    {
     "name": "stdout",
     "output_type": "stream",
     "text": [
      "val_acc 0.962 val_loss 0.122\n",
      "Epoch 8/10\n",
      "----------\n"
     ]
    },
    {
     "name": "stdout",
     "output_type": "stream",
     "text": [
      "train_acc 0.962 train_loss 0.127\n"
     ]
    },
    {
     "name": "stdout",
     "output_type": "stream",
     "text": [
      "val_acc 0.967 val_loss 0.109\n",
      "Epoch 9/10\n",
      "----------\n"
     ]
    },
    {
     "name": "stdout",
     "output_type": "stream",
     "text": [
      "train_acc 0.966 train_loss 0.115\n"
     ]
    },
    {
     "name": "stdout",
     "output_type": "stream",
     "text": [
      "val_acc 0.970 val_loss 0.097\n",
      "Epoch 10/10\n",
      "----------\n"
     ]
    },
    {
     "name": "stdout",
     "output_type": "stream",
     "text": [
      "train_acc 0.968 train_loss 0.106\n"
     ]
    },
    {
     "name": "stdout",
     "output_type": "stream",
     "text": [
      "val_acc 0.972 val_loss 0.093\n"
     ]
    }
   ],
   "source": [
    "# Set the optimizer\n",
    "optimizer = SGD(model.parameters(), lr=0.001)\n",
    "criterium = nn.CrossEntropyLoss()\n",
    "\n",
    "# Train for 50 epochs\n",
    "results = train_model(model, optimizer, criterium, n_epochs=10)"
   ]
  },
  {
   "attachments": {},
   "cell_type": "markdown",
   "metadata": {},
   "source": [
    "The loss function is plotted for each epoch during the training procedure."
   ]
  },
  {
   "cell_type": "code",
   "execution_count": 8,
   "metadata": {},
   "outputs": [
    {
     "data": {
      "text/plain": [
       "Text(0.5, 1.0, 'Accuracy')"
      ]
     },
     "execution_count": 8,
     "metadata": {},
     "output_type": "execute_result"
    },
    {
     "data": {
      "image/png": "[encoded data removed]",
      "text/plain": [
       "<Figure size 640x480 with 2 Axes>"
      ]
     },
     "metadata": {},
     "output_type": "display_data"
    }
   ],
   "source": [
    "# Plot results\n",
    "plt.subplot(1, 2, 1)\n",
    "plt.plot(range(len(results['training_loss'])), results['training_loss'], 'bo-', label='train')\n",
    "plt.plot(range(len(results['validation_loss'])), results['validation_loss'], 'ro-', label='val')\n",
    "plt.legend()\n",
    "plt.xlabel('Epochs')\n",
    "plt.ylabel('Loss')\n",
    "plt.title('Loss')\n",
    "\n",
    "plt.subplot(1, 2, 2)\n",
    "plt.plot(range(len(results['training_acc'])), results['training_acc'], 'bo-', label='train')\n",
    "plt.plot(range(len(results['validation_acc'])), results['validation_acc'], 'ro-', label='val')\n",
    "plt.legend()\n",
    "plt.xlabel('Epochs')\n",
    "plt.ylabel('Accuracy')\n",
    "plt.title('Accuracy')"
   ]
  },
  {
   "attachments": {},
   "cell_type": "markdown",
   "metadata": {},
   "source": [
    "The loss is already very low from the first epoch. The validation loss also starts to rise again after a certain amount of epochs. This is because overfitting of the model on the training set is occurring. Therefore, the weights of the model with the best validation accuracy are stored."
   ]
  },
  {
   "attachments": {},
   "cell_type": "markdown",
   "metadata": {},
   "source": [
    "## Model validation"
   ]
  },
  {
   "attachments": {},
   "cell_type": "markdown",
   "metadata": {},
   "source": [
    "To validate the model we can compare the predicted value of an image to the ground thruth. We can do this for the first batch. "
   ]
  },
  {
   "cell_type": "code",
   "execution_count": 9,
   "metadata": {},
   "outputs": [
    {
     "data": {
      "image/png": "[encoded data removed]",
      "text/plain": [
       "<Figure size 1000x500 with 10 Axes>"
      ]
     },
     "metadata": {},
     "output_type": "display_data"
    }
   ],
   "source": [
    "# Extract a batch\n",
    "batch = next(iter(train_loader))\n",
    "\n",
    "# Extract the images and labels\n",
    "x, y = batch\n",
    "\n",
    "# Get the predictions for the whole batch\n",
    "y_pred = model(x).argmax(axis=1)\n",
    "\n",
    "# Plot predictions and labels\n",
    "fig, ax = plt.subplots(2,5,figsize=(10,5))\n",
    "for i in range(10):\n",
    "    plt.subplot(2,5,i+1)\n",
    "    plt.imshow(x[i].permute(1,2,0), cmap='gray')\n",
    "    plt.title(f'Predicted Digit: {y_pred[i]}')\n",
    "plt.show()"
   ]
  },
  {
   "cell_type": "code",
   "execution_count": 10,
   "metadata": {},
   "outputs": [
    {
     "name": "stdout",
     "output_type": "stream",
     "text": [
      "The model has an accuracy of 97.2 on the validation set.\n"
     ]
    }
   ],
   "source": [
    "# Reset the losses and corrects at the start of each epoch\n",
    "running_corrects = 0.0\n",
    "\n",
    "# Extract batches from the data loaders untill all batches are retrieved\n",
    "num_samples = 0\n",
    "for inputs, labels in valid_loader:\n",
    "\n",
    "    # Inputs shape\n",
    "    batch_size, c, h, w = inputs.shape\n",
    "\n",
    "    # Store the inputs and labels to the selected device\n",
    "    inputs = inputs.to(device)  \n",
    "    labels = labels.to(device)  \n",
    "\n",
    "    # Forward pass through the network\n",
    "    outputs = model(inputs)\n",
    "\n",
    "    # Softmax transforms the output probabilities into one selected class\n",
    "    _, class_pred = torch.max(outputs, 1)\n",
    "    \n",
    "    # Update the losses and corrects for this batch\n",
    "    running_corrects += class_pred.eq(labels).sum().item()\n",
    "\n",
    "    # Calculate total samples\n",
    "    num_samples += batch_size\n",
    "\n",
    "# Print results\n",
    "print('The model has an accuracy of ' + str((running_corrects/num_samples)*100) + ' on the validation set.')"
   ]
  }
 ],
 "metadata": {
  "kernelspec": {
   "display_name": "venv",
   "language": "python",
   "name": "python3"
  },
  "language_info": {
   "codemirror_mode": {
    "name": "ipython",
    "version": 3
   },
   "file_extension": ".py",
   "mimetype": "text/x-python",
   "name": "python",
   "nbconvert_exporter": "python",
   "pygments_lexer": "ipython3",
   "version": "3.9.0"
  },
  "vscode": {
   "interpreter": {
    "hash": "2f418a02590753b7a1c4ceaff2830d9c98c19de9bf29356c9d5ba509b644e4e8"
   }
  }
 },
 "nbformat": 4,
 "nbformat_minor": 2
}