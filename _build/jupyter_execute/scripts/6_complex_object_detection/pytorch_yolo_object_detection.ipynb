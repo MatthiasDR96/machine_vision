{
 "cells": [
  {
   "cell_type": "markdown",
   "metadata": {},
   "source": [
    "# Yolo object detection"
   ]
  },
  {
   "cell_type": "code",
   "execution_count": 2,
   "metadata": {},
   "outputs": [],
   "source": [
    "# Imports\n",
    "\n",
    "import cv2\n",
    "import torch\n",
    "import numpy as np\n",
    "import matplotlib.pyplot as plt"
   ]
  },
  {
   "cell_type": "code",
   "execution_count": 4,
   "metadata": {},
   "outputs": [
    {
     "name": "stderr",
     "output_type": "stream",
     "text": [
      "Using cache found in C:\\Users\\matth/.cache\\torch\\hub\\ultralytics_yolov5_master\n",
      "YOLOv5  2022-11-21 Python-3.8.0 torch-1.11.0+cpu CPU\n",
      "\n",
      "Downloading https://github.com/ultralytics/yolov5/releases/download/v6.2/yolov5s.pt to yolov5s.pt...\n",
      "\n",
      "Fusing layers... \n",
      "YOLOv5s summary: 213 layers, 7225885 parameters, 0 gradients\n",
      "Adding AutoShape... \n"
     ]
    }
   ],
   "source": [
    "# Model\n",
    "model = torch.hub.load('ultralytics/yolov5', 'yolov5s', pretrained=True, _verbose=False)"
   ]
  },
  {
   "cell_type": "code",
   "execution_count": null,
   "metadata": {},
   "outputs": [],
   "source": [
    "# Plot bounding boxes\n",
    "def plot_boxes(results, frame, model):\n",
    "\n",
    "\t# Get labels and coördinates\n",
    "\tlabels, cord = results\n",
    "\n",
    "\t# Get image shape\n",
    "\tx_shape, y_shape = frame.shape[1], frame.shape[0]\n",
    "\n",
    "\t# Loop\n",
    "\tcount = 0\n",
    "\tfor i in range(len(labels)):\n",
    "\n",
    "\t\t# Get coordinates of bounding box\n",
    "\t\trow = cord[i]\n",
    "\n",
    "\t\t# Supress\n",
    "\t\tif row[4] < 0.5: continue\n",
    "\n",
    "\t\t# Get pixel coordinates\n",
    "\t\tx1 = int(row[0]*x_shape)\n",
    "\t\ty1 = int(row[1]*y_shape)\n",
    "\t\tx2 = int(row[2]*x_shape)\n",
    "\t\ty2 = int(row[3]*y_shape)\n",
    "\n",
    "\t\t# Color of bounding box\n",
    "\t\tbgr = (0, 255, 0) \n",
    "\n",
    "\t\t# Get the name of label index\n",
    "\t\tclasses = model.names \n",
    "\n",
    "\t\t# If a person\n",
    "\t\tif int(labels[i]) == 0: count += 1\n",
    "\n",
    "\t\t# Get font for the label\n",
    "\t\tlabel_font = cv2.FONT_HERSHEY_SIMPLEX \n",
    "\n",
    "\t\t# Plot the boxes\n",
    "\t\tcv2.rectangle(frame, (x1, y1), (x2, y2), bgr, 2) \n",
    "\n",
    "\t\t# Put a label over box.\n",
    "\t\tcv2.putText(frame, classes[int(labels[i])], (x1, y1), label_font, 0.9, bgr, 2) \n",
    "\n",
    "\t# Count people\n",
    "\tcv2.putText(frame, \"Number of visible visitors: \" + str(count), (int(np.shape(frame)[1]/4), 50), cv2.FONT_HERSHEY_SIMPLEX, 1.5, (255, 255, 255), 2, cv2.LINE_AA)\n",
    "\n",
    "\treturn frame\n",
    "\n",
    "# Score frame\n",
    "def score_frame(frame, model):\n",
    "\n",
    "\t# Check device\n",
    "\tdevice = 'cuda' if torch.cuda.is_available() else 'cpu'\n",
    "\tprint(device)\n",
    "\tmodel.to(device)\n",
    "\n",
    "\t# Convert frame to tensor\n",
    "\tframe = [torch.tensor(frame)]\n",
    "\n",
    "\t# Run through network\n",
    "\tresults = model(frame)\n",
    "\n",
    "\t# Retrieve labels en coordinates\n",
    "\tlabels = results.xyxyn[0][:, -1].numpy()\n",
    "\tcord = results.xyxyn[0][:, :-1].numpy()\n",
    "\n",
    "\treturn labels, "
   ]
  },
  {
   "cell_type": "code",
   "execution_count": null,
   "metadata": {},
   "outputs": [],
   "source": [
    "# Load image\n",
    "img = cv2.imread('data/smiling_person.jpg')\n",
    "\n",
    "# Reshape image\n",
    "gray = cv2.cvtColor(img, cv2.COLOR_RGB2GRAY)\n",
    "\n",
    "# Score the frame\n",
    "results = score_frame(gray, model) \n",
    "\n",
    "# Plot the boxes\n",
    "image = plot_boxes(results, img, model) \n",
    "\n",
    "# Show result\n",
    "plt.imshow(img)\n",
    "plt.show()"
   ]
  }
 ],
 "metadata": {
  "kernelspec": {
   "display_name": "Python 3.8.0 64-bit",
   "language": "python",
   "name": "python3"
  },
  "language_info": {
   "codemirror_mode": {
    "name": "ipython",
    "version": 3
   },
   "file_extension": ".py",
   "mimetype": "text/x-python",
   "name": "python",
   "nbconvert_exporter": "python",
   "pygments_lexer": "ipython3",
   "version": "3.8.0"
  },
  "vscode": {
   "interpreter": {
    "hash": "9650cb4e16cdd4a8e8e2d128bf38d875813998db22a3c986335f89e0cb4d7bb2"
   }
  }
 },
 "nbformat": 4,
 "nbformat_minor": 2
}