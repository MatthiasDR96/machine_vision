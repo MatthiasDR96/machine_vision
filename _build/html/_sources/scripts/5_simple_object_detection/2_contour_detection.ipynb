{
 "cells": [
  {
   "cell_type": "markdown",
   "metadata": {},
   "source": [
    "# Basic object detection"
   ]
  },
  {
   "cell_type": "code",
   "execution_count": null,
   "metadata": {},
   "outputs": [],
   "source": [
    "# Imports\n",
    "import cv2\n",
    "import numpy as np\n",
    "import matplotlib.pyplot as plt"
   ]
  },
  {
   "cell_type": "code",
   "execution_count": null,
   "metadata": {},
   "outputs": [],
   "source": [
    "# Load images\n",
    "image1 = cv2.imread('../../data/contours.png')\n",
    "image2 = cv2.imread('../../data/sudoku.jpg')\n",
    "image3 = cv2.imread('../../data/beer_cans.jpg')"
   ]
  },
  {
   "cell_type": "markdown",
   "metadata": {},
   "source": [
    "### Contour detection"
   ]
  },
  {
   "cell_type": "code",
   "execution_count": null,
   "metadata": {},
   "outputs": [],
   "source": [
    "# Converting RGB image to grayscale\n",
    "gray = cv2.cvtColor(image1, cv2.COLOR_BGR2GRAY)\n",
    "\n",
    "# Calculate the contours from binary image\n",
    "canny = cv2.Canny(gray, 50, 200)\n",
    "\n",
    "# Find contours\n",
    "contours, hierarchy = cv2.findContours(canny, cv2.RETR_TREE, cv2.CHAIN_APPROX_NONE)\n",
    "\n",
    "# Draw contours\n",
    "with_contours = cv2.drawContours(image1.copy(), contours, -1, (0, 255, 0), 2)\n",
    "\n",
    "# Show\n",
    "plt.subplot(1, 4, 1)\n",
    "plt.imshow(image1)\n",
    "plt.subplot(1, 4, 2)\n",
    "plt.imshow(gray, cmap='gray')\n",
    "plt.subplot(1, 4, 3)\n",
    "plt.imshow(canny, cmap='gray')\n",
    "plt.subplot(1, 4, 4)\n",
    "plt.imshow(with_contours)\n",
    "plt.show()\n"
   ]
  }
 ],
 "metadata": {
  "kernelspec": {
   "display_name": "Python 3.8.0 64-bit",
   "language": "python",
   "name": "python3"
  },
  "language_info": {
   "codemirror_mode": {
    "name": "ipython",
    "version": 3
   },
   "file_extension": ".py",
   "mimetype": "text/x-python",
   "name": "python",
   "nbconvert_exporter": "python",
   "pygments_lexer": "ipython3",
   "version": "3.8.0"
  },
  "orig_nbformat": 4,
  "vscode": {
   "interpreter": {
    "hash": "9650cb4e16cdd4a8e8e2d128bf38d875813998db22a3c986335f89e0cb4d7bb2"
   }
  }
 },
 "nbformat": 4,
 "nbformat_minor": 2
}
