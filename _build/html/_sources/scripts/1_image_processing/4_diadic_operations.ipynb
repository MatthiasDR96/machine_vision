{
 "cells": [
  {
   "cell_type": "markdown",
   "metadata": {},
   "source": [
    "# Diadic operations"
   ]
  },
  {
   "cell_type": "code",
   "execution_count": null,
   "metadata": {},
   "outputs": [],
   "source": [
    "# Imports\n",
    "import cv2\n",
    "import numpy as np\n",
    "import matplotlib.pyplot as plt"
   ]
  },
  {
   "cell_type": "code",
   "execution_count": null,
   "metadata": {},
   "outputs": [],
   "source": [
    "# For use in Google Colab\n",
    "%cd /content/drive/MyDrive/machine_vision/scripts/1_image_processing"
   ]
  },
  {
   "cell_type": "markdown",
   "metadata": {},
   "source": [
    "## Green screen application"
   ]
  },
  {
   "cell_type": "code",
   "execution_count": null,
   "metadata": {},
   "outputs": [],
   "source": [
    "# Load image\n",
    "image_1 = cv2.imread('../../data/greenscreen_1.jpg')\n",
    "image_2 = cv2.imread('../../data/greenscreen_2.jpg')\n",
    "\n",
    "# Convert to rgb\n",
    "image_1 = cv2.cvtColor(image_1, cv2.COLOR_BGR2RGB)\n",
    "image_2 = cv2.cvtColor(image_2, cv2.COLOR_BGR2RGB)"
   ]
  },
  {
   "cell_type": "code",
   "execution_count": null,
   "metadata": {},
   "outputs": [],
   "source": [
    "# Define green range\n",
    "lower_range = np.array([0, 180, 0])\n",
    "upper_range = np.array([200, 220, 200])\n",
    "\n",
    "# Make mask\n",
    "mask = cv2.inRange(image_1, lower_range, upper_range)\n",
    "\n",
    "# Set all other areas to zero except where mask area \n",
    "image_1[mask != 0] = [0, 0, 0]\n",
    "\n",
    "# Show\n",
    "plt.subplot(1, 2, 1)\n",
    "plt.imshow(mask, cmap='gray')\n",
    "plt.subplot(1, 2, 2)\n",
    "plt.imshow(image_1)\n",
    "plt.show()"
   ]
  },
  {
   "cell_type": "code",
   "execution_count": null,
   "metadata": {},
   "outputs": [],
   "source": [
    "# Make images same size\n",
    "image_2 = cv2.resize(image_2, (image_1.shape[1], image_1.shape[0]) )\n",
    "\n",
    "# Set the mask area with black to be replaced\n",
    "image_2[mask == 0 ] = [0, 0, 0]\n",
    "\n",
    "# Show\n",
    "plt.subplot(1, 2, 1)\n",
    "plt.imshow(mask, cmap='gray')\n",
    "plt.subplot(1, 2, 2)\n",
    "plt.imshow(image_2)\n",
    "plt.show()"
   ]
  },
  {
   "cell_type": "code",
   "execution_count": null,
   "metadata": {},
   "outputs": [],
   "source": [
    "# Add two images\n",
    "complete_image = image_1 + image_2\n",
    "\n",
    "# Show\n",
    "plt.imshow(complete_image)\n",
    "plt.show()"
   ]
  },
  {
   "cell_type": "markdown",
   "metadata": {},
   "source": [
    "## Movement detection"
   ]
  },
  {
   "cell_type": "code",
   "execution_count": null,
   "metadata": {},
   "outputs": [],
   "source": [
    "# Get video object\n",
    "vidcap = cv2.VideoCapture('../../data/motion_detection.mp4')\n",
    "success,image = vidcap.read()\n",
    "cv2.imwrite('../../data/motion_detection_1.jpg', image)     # save frame as JPEG file      \n",
    "success,image = vidcap.read()\n",
    "cv2.imwrite('../../data/motion_detection_2.jpg', image)     # save frame as JPEG file  "
   ]
  },
  {
   "cell_type": "code",
   "execution_count": null,
   "metadata": {},
   "outputs": [],
   "source": [
    "# Load image\n",
    "image1 = cv2.imread('../../data/motion_detection_1.jpg')\n",
    "image2 = cv2.imread('../../data/motion_detection_2.jpg')\n",
    "\n",
    "# Convert to grayscale\n",
    "gray1 = cv2.cvtColor(image1, cv2.COLOR_BGR2GRAY)\n",
    "gray2 = cv2.cvtColor(image2, cv2.COLOR_BGR2GRAY)\n",
    "\n",
    "# Smooth image\n",
    "smooth1 = cv2.GaussianBlur(gray1, ksize=(5,5), sigmaX=0)\n",
    "smooth2 = cv2.GaussianBlur(gray2, ksize=(5,5), sigmaX=0)\n",
    "\n",
    "# Calculate difference\n",
    "diff_frame = cv2.absdiff(smooth1, smooth2)\n",
    "\n",
    "# Show\n",
    "plt.imshow(diff_frame, cmap='gray')\n",
    "plt.show()"
   ]
  }
 ],
 "metadata": {
  "kernelspec": {
   "display_name": "Python 3.8.0 64-bit",
   "language": "python",
   "name": "python3"
  },
  "language_info": {
   "codemirror_mode": {
    "name": "ipython",
    "version": 3
   },
   "file_extension": ".py",
   "mimetype": "text/x-python",
   "name": "python",
   "nbconvert_exporter": "python",
   "pygments_lexer": "ipython3",
   "version": "3.9.0"
  },
  "orig_nbformat": 4,
  "vscode": {
   "interpreter": {
    "hash": "9650cb4e16cdd4a8e8e2d128bf38d875813998db22a3c986335f89e0cb4d7bb2"
   }
  }
 },
 "nbformat": 4,
 "nbformat_minor": 2
}
