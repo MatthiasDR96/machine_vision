{
 "cells": [
  {
   "cell_type": "markdown",
   "metadata": {},
   "source": [
    "# Spatial operations"
   ]
  },
  {
   "cell_type": "code",
   "execution_count": null,
   "metadata": {},
   "outputs": [],
   "source": [
    "# Imports\n",
    "import cv2\n",
    "import numpy as np\n",
    "import matplotlib.pyplot as plt"
   ]
  },
  {
   "cell_type": "code",
   "execution_count": null,
   "metadata": {},
   "outputs": [],
   "source": [
    "# Load image\n",
    "img = cv2.imread('../../data/lenna_test_image.png')"
   ]
  },
  {
   "cell_type": "markdown",
   "metadata": {},
   "source": [
    "### Convolutional kernels"
   ]
  },
  {
   "cell_type": "code",
   "execution_count": null,
   "metadata": {},
   "outputs": [],
   "source": [
    "\n",
    "# Define convolutional kernel\n",
    "kernel = np.ones((3, 3), np.float32) * -1\n",
    "kernel[1][1] = 9\n",
    "\n",
    "# Perform convolution\n",
    "result = cv2.filter2D(img, -1, kernel)\n",
    "\n",
    "# Concatenate images\n",
    "result = np.concatenate((img, result), axis=1)\n",
    "\n",
    "# Plot results\n",
    "plt.imshow(result)\n",
    "plt.show()"
   ]
  },
  {
   "cell_type": "code",
   "execution_count": null,
   "metadata": {},
   "outputs": [],
   "source": [
    "# Define array\n",
    "array = img[100:110, 100:110, 1]\n",
    "\n",
    "# Define convolutional kernel\n",
    "kernel = np.ones((3, 3), np.float32) / 9\n",
    "result = cv2.filter2D(img, -1, kernel)\n",
    "result = cv2.resize(result, (0, 0), None, .5, .5)\n",
    "\n",
    "# Define convolutional kernel\n",
    "kernel1 = np.ones((5, 5), np.float32) / 25\n",
    "result1 = cv2.filter2D(img, -1, kernel1)\n",
    "result1 = cv2.resize(result1, (0, 0), None, .5, .5)\n",
    "\n",
    "# Define convolutional kernel\n",
    "kernel2 = np.ones((10, 10), np.float32) / 100\n",
    "result2 = cv2.filter2D(img, -1, kernel2)\n",
    "result2 = cv2.resize(result2, (0, 0), None, .5, .5)\n",
    "\n",
    "# Define convolutional kernel\n",
    "kernel3 = np.ones((20, 20), np.float32) / 400\n",
    "result3 = cv2.filter2D(img, -1, kernel3)\n",
    "result3 = cv2.resize(result3, (0, 0), None, .5, .5)\n",
    "\n",
    "# Array result\n",
    "Z = cv2.filter2D(array, -1, kernel3)\n",
    "print(Z)\n",
    "\n",
    "# Concatenate results\n",
    "img = cv2.resize(img, (0, 0), None, .5, .5)\n",
    "result = np.concatenate((img, result, result1, result2, result3), axis=1)\n",
    "\n",
    "# Plot results\n",
    "plt.imshow(result)\n",
    "plt.show()\n"
   ]
  }
 ],
 "metadata": {
  "kernelspec": {
   "display_name": "Python 3.8.0 64-bit",
   "language": "python",
   "name": "python3"
  },
  "language_info": {
   "codemirror_mode": {
    "name": "ipython",
    "version": 3
   },
   "file_extension": ".py",
   "mimetype": "text/x-python",
   "name": "python",
   "nbconvert_exporter": "python",
   "pygments_lexer": "ipython3",
   "version": "3.8.0"
  },
  "orig_nbformat": 4,
  "vscode": {
   "interpreter": {
    "hash": "9650cb4e16cdd4a8e8e2d128bf38d875813998db22a3c986335f89e0cb4d7bb2"
   }
  }
 },
 "nbformat": 4,
 "nbformat_minor": 2
}
