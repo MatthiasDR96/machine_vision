{
 "cells": [
  {
   "cell_type": "markdown",
   "metadata": {},
   "source": [
    "# Morphological transformations"
   ]
  },
  {
   "cell_type": "code",
   "execution_count": null,
   "metadata": {},
   "outputs": [],
   "source": [
    "# Imports\n",
    "import cv2\n",
    "import numpy as np\n",
    "import matplotlib.pyplot as plt"
   ]
  },
  {
   "cell_type": "code",
   "execution_count": null,
   "metadata": {},
   "outputs": [],
   "source": [
    "# Load image\n",
    "image = cv2.imread(\"data/lesson6_letter_j.png\")\n",
    "image = cv2.cvtColor(image, cv2.COLOR_BGR2GRAY)\n",
    "plt.imshow(image)\n",
    "plt.show()"
   ]
  },
  {
   "cell_type": "markdown",
   "metadata": {},
   "source": [
    "### Dilation"
   ]
  },
  {
   "cell_type": "code",
   "execution_count": null,
   "metadata": {},
   "outputs": [],
   "source": [
    "# Dilation\n",
    "kernel = np.ones((5,5), np.uint8)\n",
    "dilation = cv2.dilate(image, kernel, iterations = 1)\n",
    "plt.imshow(dilation)\n",
    "plt.show()"
   ]
  },
  {
   "cell_type": "markdown",
   "metadata": {},
   "source": [
    "### Erosion"
   ]
  },
  {
   "cell_type": "code",
   "execution_count": null,
   "metadata": {},
   "outputs": [],
   "source": [
    "# Erosion\n",
    "kernel = np.ones((5,5), np.uint8)\n",
    "erode = cv2.erode(image, kernel, iterations = 1)\n",
    "plt.imshow(erode)\n",
    "plt.show()"
   ]
  },
  {
   "cell_type": "markdown",
   "metadata": {},
   "source": [
    "### Opening"
   ]
  },
  {
   "cell_type": "code",
   "execution_count": null,
   "metadata": {},
   "outputs": [],
   "source": [
    "# Opening\n",
    "kernel = np.ones((5,5), np.uint8)\n",
    "opening = cv2.morphologyEx(image, cv2.MORPH_OPEN, kernel)\n",
    "plt.imshow(opening)\n",
    "plt.show()"
   ]
  },
  {
   "cell_type": "markdown",
   "metadata": {},
   "source": [
    "### Closing"
   ]
  },
  {
   "cell_type": "code",
   "execution_count": null,
   "metadata": {},
   "outputs": [],
   "source": [
    "# Closing\n",
    "kernel = np.ones((5,5), np.uint8)\n",
    "closing = cv2.morphologyEx(image, cv2.MORPH_CLOSE, kernel)\n",
    "plt.imshow(closing)\n",
    "plt.show()"
   ]
  },
  {
   "cell_type": "code",
   "execution_count": null,
   "metadata": {},
   "outputs": [],
   "source": [
    "# Make empty skeleton image\n",
    "size = np.size(image)\n",
    "skel = np.zeros(image.shape, np.uint8)\n",
    "\n",
    "# Skeletonize\n",
    "element = cv2.getStructuringElement(cv2.MORPH_CROSS, (3, 3))\n",
    "done = False\n",
    "while not done:\n",
    "        \n",
    "    # Eroding\n",
    "    eroded = cv2.erode(image, element)\n",
    "    \n",
    "    # Dilating\n",
    "    dilated = cv2.dilate(eroded, element)\n",
    "        \n",
    "    # Subtraction\n",
    "    temp = cv2.subtract(image, dilated)\n",
    "        \n",
    "    # OR-operation\n",
    "    skel = cv2.bitwise_or(skel, temp)\n",
    "\n",
    "    # Copy eroded image\n",
    "    image = eroded.copy()\n",
    "        \n",
    "    # If eroded image is empty => stop\n",
    "    zeros = size - cv2.countNonZero(image)\n",
    "    if zeros == size:\n",
    "        done = True\n",
    "\n",
    "    # Show result\n",
    "    result = np.concatenate((image, eroded, dilated, temp, skel), axis=1)\n",
    "    plt.imshow(result)\n",
    "    plt.pause(0.001)"
   ]
  }
 ],
 "metadata": {
  "kernelspec": {
   "display_name": "Python 3.8.0 64-bit",
   "language": "python",
   "name": "python3"
  },
  "language_info": {
   "codemirror_mode": {
    "name": "ipython",
    "version": 3
   },
   "file_extension": ".py",
   "mimetype": "text/x-python",
   "name": "python",
   "nbconvert_exporter": "python",
   "pygments_lexer": "ipython3",
   "version": "3.8.0"
  },
  "orig_nbformat": 4,
  "vscode": {
   "interpreter": {
    "hash": "9650cb4e16cdd4a8e8e2d128bf38d875813998db22a3c986335f89e0cb4d7bb2"
   }
  }
 },
 "nbformat": 4,
 "nbformat_minor": 2
}
