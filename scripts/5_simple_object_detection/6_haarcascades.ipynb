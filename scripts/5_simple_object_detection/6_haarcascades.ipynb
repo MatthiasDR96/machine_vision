{
 "cells": [
  {
   "cell_type": "markdown",
   "metadata": {},
   "source": [
    "# Haarcascades"
   ]
  },
  {
   "cell_type": "code",
   "execution_count": null,
   "metadata": {},
   "outputs": [],
   "source": [
    "# Imports\n",
    "import cv2\n",
    "import time\n",
    "import matplotlib.pyplot as plt"
   ]
  },
  {
   "cell_type": "code",
   "execution_count": null,
   "metadata": {},
   "outputs": [],
   "source": [
    "# Load image\n",
    "img = cv2.imread('../../data/smiling_person.jpg')"
   ]
  },
  {
   "cell_type": "code",
   "execution_count": null,
   "metadata": {},
   "outputs": [],
   "source": [
    "# Image processing\n",
    "gray = cv2.cvtColor(img, cv2.COLOR_BGR2GRAY)"
   ]
  },
  {
   "cell_type": "code",
   "execution_count": null,
   "metadata": {},
   "outputs": [],
   "source": [
    "\n",
    "# Define cascades\n",
    "faceCascade = cv2.CascadeClassifier('../../data/haar_cascade_files/haarcascade_frontalface_default.xml')\n",
    "smileCascade = cv2.CascadeClassifier('../../data/haar_cascade_files/haarcascade_smile.xml')\n",
    "eyeCascade = cv2.CascadeClassifier('../../data/haar_cascade_files/haarcascade_eye.xml')\n",
    "\n",
    "# Detect faces\n",
    "faces = faceCascade.detectMultiScale(gray)\n",
    "\n",
    "# For all faces in image\n",
    "for (x, y, w, h) in faces:\n",
    "    \n",
    "    # Draw bounding box\n",
    "    cv2.rectangle(img, (x, y), (x + w, y + h), (255, 0, 0), 2)\n",
    "\n",
    "    # Define face images\n",
    "    roi_gray = gray[y:y + h, x:x + w]\n",
    "    roi_color = img[y:y + h, x:x + w]\n",
    "\n",
    "    # Detect smile\n",
    "    smile = smileCascade.detectMultiScale(roi_gray, scaleFactor=1.5, minNeighbors=50)\n",
    "\n",
    "    # Detect eyes\n",
    "    eye = eyeCascade.detectMultiScale(roi_gray, scaleFactor=1.5, minNeighbors=1)\n",
    "\n",
    "    # Draw smile box\n",
    "    for (xx, yy, ww, hh) in smile:\n",
    "        cv2.rectangle(roi_color, (xx, yy), (xx + ww, yy + hh), (0, 255, 0), 2)\n",
    "\n",
    "    # Draw \n",
    "    for (xx, yy, ww, hh) in eye:\n",
    "        cv2.rectangle(roi_color, (xx, yy), (xx + ww, yy + hh), (0, 0, 255), 2)\n",
    "\n",
    "    # Show result\n",
    "    plt.imshow(img)\n",
    "    plt.show()"
   ]
  }
 ],
 "metadata": {
  "kernelspec": {
   "display_name": "Python 3.8.0 64-bit",
   "language": "python",
   "name": "python3"
  },
  "language_info": {
   "codemirror_mode": {
    "name": "ipython",
    "version": 3
   },
   "file_extension": ".py",
   "mimetype": "text/x-python",
   "name": "python",
   "nbconvert_exporter": "python",
   "pygments_lexer": "ipython3",
   "version": "3.8.0"
  },
  "orig_nbformat": 4,
  "vscode": {
   "interpreter": {
    "hash": "9650cb4e16cdd4a8e8e2d128bf38d875813998db22a3c986335f89e0cb4d7bb2"
   }
  }
 },
 "nbformat": 4,
 "nbformat_minor": 2
}
