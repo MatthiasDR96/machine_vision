{
 "cells": [
  {
   "cell_type": "markdown",
   "metadata": {},
   "source": [
    "# Augmented reality application"
   ]
  },
  {
   "cell_type": "code",
   "execution_count": 1,
   "metadata": {},
   "outputs": [],
   "source": [
    "# Imports\n",
    "import glob\n",
    "import cv2\n",
    "import numpy as np"
   ]
  },
  {
   "cell_type": "code",
   "execution_count": 15,
   "metadata": {},
   "outputs": [],
   "source": [
    "\n",
    "# Draw reference axis\n",
    "def draw_axes(img, mtx, dist, rvecs, tvecs, length):\n",
    "\n",
    "    # Frame axis\n",
    "    axis = np.float32([[0, 0, 0], [length, 0, 0], [0, length, 0], [0, 0, -length]])\n",
    "        \n",
    "    # Project 3D points in 2D\n",
    "    imgpts, _ = cv2.projectPoints(axis, rvecs, tvecs, mtx, dist)\n",
    "    imgpts = imgpts.astype(int)\n",
    "\n",
    "    # Line projections\n",
    "    img = cv2.line(img, tuple(imgpts[0].ravel()), tuple(imgpts[1].ravel()), (0, 0, 255), 5)\n",
    "    img = cv2.line(img, tuple(imgpts[0].ravel()), tuple(imgpts[2].ravel()), (0, 255, 0), 5)\n",
    "    img = cv2.line(img, tuple(imgpts[0].ravel()), tuple(imgpts[3].ravel()), (255, 0, 0), 5)\n",
    "    text_pos = (imgpts[1].ravel() + np.array([3.5, -7])).astype(int)\n",
    "    cv2.putText(img, 'X', tuple(text_pos), cv2.FONT_HERSHEY_PLAIN, 2, (0, 0, 255))\n",
    "    text_pos = (imgpts[2].ravel() + np.array([3.5, -7])).astype(int)\n",
    "    cv2.putText(img, 'Y', tuple(text_pos), cv2.FONT_HERSHEY_PLAIN, 2, (0, 0, 255))\n",
    "    text_pos = (imgpts[3].ravel() + np.array([3.5, -7])).astype(int)\n",
    "    cv2.putText(img, 'Z', tuple(text_pos), cv2.FONT_HERSHEY_PLAIN, 2, (0, 0, 255))\n",
    "\n",
    "    return img\n",
    "\n",
    "# Draw box\n",
    "def draw_cube(img, imgpts):\n",
    "        \n",
    "    # Line projections\n",
    "    img = cv2.line(img, tuple(imgpts[0].ravel()), tuple(imgpts[1].ravel()), (0, 0, 255), 3)\n",
    "    img = cv2.line(img, tuple(imgpts[1].ravel()), tuple(imgpts[2].ravel()), (0, 0, 255), 3)\n",
    "    img = cv2.line(img, tuple(imgpts[2].ravel()), tuple(imgpts[3].ravel()), (0, 0, 255), 3)\n",
    "    img = cv2.line(img, tuple(imgpts[3].ravel()), tuple(imgpts[0].ravel()), (0, 0, 255), 3)\n",
    "    img = cv2.line(img, tuple(imgpts[4].ravel()), tuple(imgpts[5].ravel()), (0, 0, 255), 3)\n",
    "    img = cv2.line(img, tuple(imgpts[5].ravel()), tuple(imgpts[6].ravel()), (0, 0, 255), 3)\n",
    "    img = cv2.line(img, tuple(imgpts[6].ravel()), tuple(imgpts[7].ravel()), (0, 0, 255), 3)\n",
    "    img = cv2.line(img, tuple(imgpts[7].ravel()), tuple(imgpts[4].ravel()), (0, 0, 255), 3)\n",
    "    img = cv2.line(img, tuple(imgpts[0].ravel()), tuple(imgpts[4].ravel()), (0, 255, 255), 3)\n",
    "    img = cv2.line(img, tuple(imgpts[1].ravel()), tuple(imgpts[5].ravel()), (0, 255, 255), 3)\n",
    "    img = cv2.line(img, tuple(imgpts[2].ravel()), tuple(imgpts[6].ravel()), (0, 255, 255), 3)\n",
    "    img = cv2.line(img, tuple(imgpts[3].ravel()), tuple(imgpts[7].ravel()), (0, 255, 255), 3)\n",
    "\n",
    "    return img"
   ]
  },
  {
   "cell_type": "code",
   "execution_count": 4,
   "metadata": {},
   "outputs": [],
   "source": [
    "# Load intrinsic camera matrix\n",
    "X = np.load('data/intrinsic_camera_properties.npy', allow_pickle=True)\n",
    "mtx = X.item().get('MTX')\n",
    "dist = X.item().get('DIST')\n",
    "rvecs = X.item().get('RVECS')\n",
    "tvecs = X.item().get('TVECS')\n",
    "\n",
    "# Termination criteria\n",
    "criteria = (cv2.TERM_CRITERIA_EPS + cv2.TERM_CRITERIA_MAX_ITER, 30, 0.001)\n",
    "\n",
    "# Define world coordinates in meters\n",
    "objp = np.zeros((7 * 7, 3), np.float32)\n",
    "objp[:, :2] = np.mgrid[0:7, 0:7].T.reshape(-1, 2) * 0.02\n",
    "\n",
    "# Axis points\n",
    "origin = [0, 0, 0]\n",
    "x_point = [0.06, 0, 0]\n",
    "y_point = [0, 0.06, 0]\n",
    "z_point = [0, 0, -0.06]\n",
    "axis = np.float32([x_point, y_point, z_point, origin]).reshape(-1, 3)\n",
    "box = np.float32([[0.08, 0.06, 0], [0.12, 0.06, 0], [0.12, 0.10, 0], [0.08, 0.10, 0], [0.08, 0.06, -0.04], [0.12, 0.06, -0.04], [0.12, 0.10, -0.04], [0.08, 0.10, -0.04]]).reshape(-1, 3)"
   ]
  },
  {
   "cell_type": "code",
   "execution_count": 16,
   "metadata": {},
   "outputs": [
    {
     "ename": "error",
     "evalue": "OpenCV(4.5.5) :-1: error: (-5:Bad argument) in function 'projectPoints'\n> Overload resolution failed:\n>  - rvec is not a numpy array, neither a scalar\n>  - Expected Ptr<cv::UMat> for argument 'rvec'\n",
     "output_type": "error",
     "traceback": [
      "\u001b[1;31m---------------------------------------------------------------------------\u001b[0m",
      "\u001b[1;31merror\u001b[0m                                     Traceback (most recent call last)",
      "Cell \u001b[1;32mIn [16], line 23\u001b[0m\n\u001b[0;32m     20\u001b[0m imgpts, jac \u001b[39m=\u001b[39m cv2\u001b[39m.\u001b[39mprojectPoints(axis, rotation_vector, translation_vector, mtx, dist)\n\u001b[0;32m     22\u001b[0m \u001b[39m# Draw axis on image\u001b[39;00m\n\u001b[1;32m---> 23\u001b[0m img \u001b[39m=\u001b[39m draw_axes(img, mtx, dist, rvecs, tvecs, \u001b[39m2\u001b[39;49m)\n\u001b[0;32m     25\u001b[0m \u001b[39m# Project 3D points to image plane\u001b[39;00m\n\u001b[0;32m     26\u001b[0m imgpts, jac \u001b[39m=\u001b[39m cv2\u001b[39m.\u001b[39mprojectPoints(box, rotation_vector, translation_vector, mtx, dist)\n",
      "Cell \u001b[1;32mIn [15], line 8\u001b[0m, in \u001b[0;36mdraw_axes\u001b[1;34m(img, mtx, dist, rvecs, tvecs, length)\u001b[0m\n\u001b[0;32m      5\u001b[0m axis \u001b[39m=\u001b[39m np\u001b[39m.\u001b[39mfloat32([[\u001b[39m0\u001b[39m, \u001b[39m0\u001b[39m, \u001b[39m0\u001b[39m], [length, \u001b[39m0\u001b[39m, \u001b[39m0\u001b[39m], [\u001b[39m0\u001b[39m, length, \u001b[39m0\u001b[39m], [\u001b[39m0\u001b[39m, \u001b[39m0\u001b[39m, \u001b[39m-\u001b[39mlength]])\n\u001b[0;32m      7\u001b[0m \u001b[39m# Project 3D points in 2D\u001b[39;00m\n\u001b[1;32m----> 8\u001b[0m imgpts, _ \u001b[39m=\u001b[39m cv2\u001b[39m.\u001b[39;49mprojectPoints(axis, rvecs, tvecs, mtx, dist)\n\u001b[0;32m      9\u001b[0m imgpts \u001b[39m=\u001b[39m imgpts\u001b[39m.\u001b[39mastype(\u001b[39mint\u001b[39m)\n\u001b[0;32m     11\u001b[0m \u001b[39m# Line projections\u001b[39;00m\n",
      "\u001b[1;31merror\u001b[0m: OpenCV(4.5.5) :-1: error: (-5:Bad argument) in function 'projectPoints'\n> Overload resolution failed:\n>  - rvec is not a numpy array, neither a scalar\n>  - Expected Ptr<cv::UMat> for argument 'rvec'\n"
     ]
    }
   ],
   "source": [
    "# Read image\n",
    "img = cv2.imread('data/lesson5_camera_calibration_10.jpg')\n",
    "\n",
    "# To grayscale\n",
    "gray = cv2.cvtColor(img, cv2.COLOR_BGR2GRAY)\n",
    "\n",
    "# Find corner pixel coordinates\n",
    "ret, corners = cv2.findChessboardCorners(gray, (7, 7), None)\n",
    "\n",
    "# If corners found\n",
    "if ret:\n",
    "\n",
    "    # Find sub-pixel coordinates\n",
    "    corners2 = cv2.cornerSubPix(gray, corners, (11, 11), (-1, -1), criteria)\n",
    "\n",
    "    # Find the rotation and translation vectors.\n",
    "    retval, rotation_vector, translation_vector, inliers = cv2.solvePnPRansac(objp, corners2, mtx, dist)\n",
    "\n",
    "    # Project 3D points to image plane\n",
    "    imgpts, jac = cv2.projectPoints(axis, rotation_vector, translation_vector, mtx, dist)\n",
    "\n",
    "    # Draw axis on image\n",
    "    img = draw_axes(img, mtx, dist, rvecs, tvecs, 2)\n",
    "\n",
    "    # Project 3D points to image plane\n",
    "    imgpts, jac = cv2.projectPoints(box, rotation_vector, translation_vector, mtx, dist)\n",
    "\n",
    "    # Draw box on image\n",
    "    img = draw_cube(img, imgpts)\n",
    "\n",
    "    # Show image, press any key to continue\n",
    "    cv2.imshow('img', img)"
   ]
  }
 ],
 "metadata": {
  "kernelspec": {
   "display_name": "Python 3.8.0 64-bit",
   "language": "python",
   "name": "python3"
  },
  "language_info": {
   "codemirror_mode": {
    "name": "ipython",
    "version": 3
   },
   "file_extension": ".py",
   "mimetype": "text/x-python",
   "name": "python",
   "nbconvert_exporter": "python",
   "pygments_lexer": "ipython3",
   "version": "3.8.0"
  },
  "orig_nbformat": 4,
  "vscode": {
   "interpreter": {
    "hash": "9650cb4e16cdd4a8e8e2d128bf38d875813998db22a3c986335f89e0cb4d7bb2"
   }
  }
 },
 "nbformat": 4,
 "nbformat_minor": 2
}
