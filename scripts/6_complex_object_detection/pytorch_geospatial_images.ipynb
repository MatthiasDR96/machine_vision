{
 "cells": [
  {
   "cell_type": "markdown",
   "metadata": {},
   "source": [
    "# Geospatial deep learning"
   ]
  },
  {
   "cell_type": "code",
   "execution_count": 2,
   "metadata": {},
   "outputs": [],
   "source": [
    "# Imports\n",
    "from torch.utils.data import DataLoader\n",
    "from torchgeo.datasets import CDL, Landsat7, Landsat8, stack_samples\n",
    "from torchgeo.samplers import RandomGeoSampler"
   ]
  },
  {
   "cell_type": "code",
   "execution_count": 7,
   "metadata": {},
   "outputs": [
    {
     "ename": "FileNotFoundError",
     "evalue": "No Landsat7 data was found in 'data'",
     "output_type": "error",
     "traceback": [
      "\u001b[1;31m---------------------------------------------------------------------------\u001b[0m",
      "\u001b[1;31mFileNotFoundError\u001b[0m                         Traceback (most recent call last)",
      "Cell \u001b[1;32mIn [7], line 2\u001b[0m\n\u001b[0;32m      1\u001b[0m \u001b[39m# Load landsat data\u001b[39;00m\n\u001b[1;32m----> 2\u001b[0m landsat7 \u001b[39m=\u001b[39m Landsat7(root\u001b[39m=\u001b[39;49m\u001b[39m\"\u001b[39;49m\u001b[39mdata\u001b[39;49m\u001b[39m\"\u001b[39;49m)\n\u001b[0;32m      3\u001b[0m landsat8 \u001b[39m=\u001b[39m Landsat8(root\u001b[39m=\u001b[39m\u001b[39m\"\u001b[39m\u001b[39mdata\u001b[39m\u001b[39m\"\u001b[39m, bands\u001b[39m=\u001b[39mLandsat8\u001b[39m.\u001b[39mall_bands[\u001b[39m1\u001b[39m:\u001b[39m-\u001b[39m\u001b[39m2\u001b[39m])\n\u001b[0;32m      4\u001b[0m landsat \u001b[39m=\u001b[39m landsat7 \u001b[39m|\u001b[39m landsat8\n",
      "File \u001b[1;32mc:\\Python38\\lib\\site-packages\\torchgeo\\datasets\\landsat.py:80\u001b[0m, in \u001b[0;36mLandsat.__init__\u001b[1;34m(self, root, crs, res, bands, transforms, cache)\u001b[0m\n\u001b[0;32m     77\u001b[0m \u001b[39mself\u001b[39m\u001b[39m.\u001b[39mbands \u001b[39m=\u001b[39m bands \u001b[39mif\u001b[39;00m bands \u001b[39melse\u001b[39;00m \u001b[39mself\u001b[39m\u001b[39m.\u001b[39mall_bands\n\u001b[0;32m     78\u001b[0m \u001b[39mself\u001b[39m\u001b[39m.\u001b[39mfilename_glob \u001b[39m=\u001b[39m \u001b[39mself\u001b[39m\u001b[39m.\u001b[39mfilename_glob\u001b[39m.\u001b[39mformat(\u001b[39mself\u001b[39m\u001b[39m.\u001b[39mbands[\u001b[39m0\u001b[39m])\n\u001b[1;32m---> 80\u001b[0m \u001b[39msuper\u001b[39;49m()\u001b[39m.\u001b[39;49m\u001b[39m__init__\u001b[39;49m(root, crs, res, transforms, cache)\n",
      "File \u001b[1;32mc:\\Python38\\lib\\site-packages\\torchgeo\\datasets\\geo.py:373\u001b[0m, in \u001b[0;36mRasterDataset.__init__\u001b[1;34m(self, root, crs, res, transforms, cache)\u001b[0m\n\u001b[0;32m    370\u001b[0m             i \u001b[39m+\u001b[39m\u001b[39m=\u001b[39m \u001b[39m1\u001b[39m\n\u001b[0;32m    372\u001b[0m \u001b[39mif\u001b[39;00m i \u001b[39m==\u001b[39m \u001b[39m0\u001b[39m:\n\u001b[1;32m--> 373\u001b[0m     \u001b[39mraise\u001b[39;00m \u001b[39mFileNotFoundError\u001b[39;00m(\n\u001b[0;32m    374\u001b[0m         \u001b[39mf\u001b[39m\u001b[39m\"\u001b[39m\u001b[39mNo \u001b[39m\u001b[39m{\u001b[39;00m\u001b[39mself\u001b[39m\u001b[39m.\u001b[39m\u001b[39m__class__\u001b[39m\u001b[39m.\u001b[39m\u001b[39m__name__\u001b[39m\u001b[39m}\u001b[39;00m\u001b[39m data was found in \u001b[39m\u001b[39m'\u001b[39m\u001b[39m{\u001b[39;00mroot\u001b[39m}\u001b[39;00m\u001b[39m'\u001b[39m\u001b[39m\"\u001b[39m\n\u001b[0;32m    375\u001b[0m     )\n\u001b[0;32m    377\u001b[0m \u001b[39mself\u001b[39m\u001b[39m.\u001b[39m_crs \u001b[39m=\u001b[39m cast(CRS, crs)\n\u001b[0;32m    378\u001b[0m \u001b[39mself\u001b[39m\u001b[39m.\u001b[39mres \u001b[39m=\u001b[39m cast(\u001b[39mfloat\u001b[39m, res)\n",
      "\u001b[1;31mFileNotFoundError\u001b[0m: No Landsat7 data was found in 'data'"
     ]
    }
   ],
   "source": [
    "# Load landsat data\n",
    "landsat7 = Landsat7(root=\"data\")\n",
    "landsat8 = Landsat8(root=\"data\", bands=Landsat8.all_bands[1:-2])\n",
    "landsat = landsat7 | landsat8"
   ]
  },
  {
   "cell_type": "code",
   "execution_count": null,
   "metadata": {},
   "outputs": [],
   "source": [
    "# Load CDL data\n",
    "cdl = CDL(root=\"./\", download=True, checksum=True)\n",
    "dataset = landsat & cdl"
   ]
  }
 ],
 "metadata": {
  "kernelspec": {
   "display_name": "Python 3.8.0 64-bit",
   "language": "python",
   "name": "python3"
  },
  "language_info": {
   "codemirror_mode": {
    "name": "ipython",
    "version": 3
   },
   "file_extension": ".py",
   "mimetype": "text/x-python",
   "name": "python",
   "nbconvert_exporter": "python",
   "pygments_lexer": "ipython3",
   "version": "3.8.0"
  },
  "orig_nbformat": 4,
  "vscode": {
   "interpreter": {
    "hash": "9650cb4e16cdd4a8e8e2d128bf38d875813998db22a3c986335f89e0cb4d7bb2"
   }
  }
 },
 "nbformat": 4,
 "nbformat_minor": 2
}
