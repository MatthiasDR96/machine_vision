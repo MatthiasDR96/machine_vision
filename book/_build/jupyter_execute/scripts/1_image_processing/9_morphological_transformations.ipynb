{
 "cells": [
  {
   "cell_type": "markdown",
   "metadata": {
    "id": "RsxD3qaM2_Rr"
   },
   "source": [
    "# Morphological transformations"
   ]
  },
  {
   "cell_type": "code",
   "execution_count": 1,
   "metadata": {
    "id": "rX8jT3LL2_Rt"
   },
   "outputs": [],
   "source": [
    "# Imports\n",
    "import cv2\n",
    "import numpy as np\n",
    "import matplotlib.pyplot as plt"
   ]
  },
  {
   "cell_type": "code",
   "execution_count": 2,
   "metadata": {
    "colab": {
     "base_uri": "https://localhost:8080/"
    },
    "id": "MdPj29-e3ZnC",
    "outputId": "a932da34-3850-4c84-a113-edb7a854c9df"
   },
   "outputs": [
    {
     "name": "stdout",
     "output_type": "stream",
     "text": [
      "[WinError 3] The system cannot find the path specified: '/content/drive/MyDrive/machine_vision/scripts/1_image_processing'\n",
      "C:\\Users\\matth\\OneDrive - KU Leuven\\Python_Projects\\machine_vision\\book\\scripts\\1_image_processing\n"
     ]
    }
   ],
   "source": [
    "# For use in Google Colab\n",
    "%cd /content/drive/MyDrive/machine_vision/scripts/1_image_processing"
   ]
  },
  {
   "cell_type": "code",
   "execution_count": 3,
   "metadata": {
    "colab": {
     "base_uri": "https://localhost:8080/",
     "height": 269
    },
    "id": "zyr2cSUs2_Ru",
    "outputId": "64d72642-cb1a-4afd-9a5a-05a62fe75736"
   },
   "outputs": [
    {
     "ename": "error",
     "evalue": "OpenCV(4.8.0) D:\\a\\opencv-python\\opencv-python\\opencv\\modules\\imgproc\\src\\color.cpp:182: error: (-215:Assertion failed) !_src.empty() in function 'cv::cvtColor'\n",
     "output_type": "error",
     "traceback": [
      "\u001b[1;31m---------------------------------------------------------------------------\u001b[0m",
      "\u001b[1;31merror\u001b[0m                                     Traceback (most recent call last)",
      "Cell \u001b[1;32mIn[3], line 3\u001b[0m\n\u001b[0;32m      1\u001b[0m \u001b[38;5;66;03m# Load image\u001b[39;00m\n\u001b[0;32m      2\u001b[0m image \u001b[38;5;241m=\u001b[39m cv2\u001b[38;5;241m.\u001b[39mimread(\u001b[38;5;124m\"\u001b[39m\u001b[38;5;124m../../data/letter_j.png\u001b[39m\u001b[38;5;124m\"\u001b[39m)\n\u001b[1;32m----> 3\u001b[0m image \u001b[38;5;241m=\u001b[39m \u001b[43mcv2\u001b[49m\u001b[38;5;241;43m.\u001b[39;49m\u001b[43mcvtColor\u001b[49m\u001b[43m(\u001b[49m\u001b[43mimage\u001b[49m\u001b[43m,\u001b[49m\u001b[43m \u001b[49m\u001b[43mcv2\u001b[49m\u001b[38;5;241;43m.\u001b[39;49m\u001b[43mCOLOR_BGR2GRAY\u001b[49m\u001b[43m)\u001b[49m\n\u001b[0;32m      4\u001b[0m plt\u001b[38;5;241m.\u001b[39mimshow(image, cmap\u001b[38;5;241m=\u001b[39m\u001b[38;5;124m'\u001b[39m\u001b[38;5;124mgray\u001b[39m\u001b[38;5;124m'\u001b[39m)\n\u001b[0;32m      5\u001b[0m plt\u001b[38;5;241m.\u001b[39mshow()\n",
      "\u001b[1;31merror\u001b[0m: OpenCV(4.8.0) D:\\a\\opencv-python\\opencv-python\\opencv\\modules\\imgproc\\src\\color.cpp:182: error: (-215:Assertion failed) !_src.empty() in function 'cv::cvtColor'\n"
     ]
    }
   ],
   "source": [
    "# Load image\n",
    "image = cv2.imread(\"../../data/letter_j.png\")\n",
    "image = cv2.cvtColor(image, cv2.COLOR_BGR2GRAY)\n",
    "plt.imshow(image, cmap='gray')\n",
    "plt.show()"
   ]
  },
  {
   "cell_type": "markdown",
   "metadata": {
    "id": "xLk1JnK92_Rv"
   },
   "source": [
    "### Dilation"
   ]
  },
  {
   "cell_type": "code",
   "execution_count": null,
   "metadata": {
    "colab": {
     "base_uri": "https://localhost:8080/",
     "height": 269
    },
    "id": "ggJp_fhx2_Rv",
    "outputId": "1df660b4-4f00-4523-9717-c5b715f72b3f"
   },
   "outputs": [],
   "source": [
    "# Dilation\n",
    "kernel = np.ones((5,5), np.uint8)\n",
    "dilation = cv2.dilate(image, kernel, iterations = 1)\n",
    "plt.imshow(dilation)\n",
    "plt.show()"
   ]
  },
  {
   "cell_type": "markdown",
   "metadata": {
    "id": "GXGn17CS2_Rw"
   },
   "source": [
    "### Erosion"
   ]
  },
  {
   "cell_type": "code",
   "execution_count": null,
   "metadata": {
    "colab": {
     "base_uri": "https://localhost:8080/",
     "height": 269
    },
    "id": "W9TB01cw2_Rw",
    "outputId": "81e5e01f-5710-44b2-8ca2-bec9ca1c92f3"
   },
   "outputs": [],
   "source": [
    "# Erosion\n",
    "kernel = np.ones((5,5), np.uint8)\n",
    "erode = cv2.erode(image, kernel, iterations = 1)\n",
    "plt.imshow(erode)\n",
    "plt.show()"
   ]
  },
  {
   "cell_type": "markdown",
   "metadata": {
    "id": "zHJ1qlSM2_Rw"
   },
   "source": [
    "### Opening"
   ]
  },
  {
   "cell_type": "code",
   "execution_count": null,
   "metadata": {
    "colab": {
     "base_uri": "https://localhost:8080/",
     "height": 269
    },
    "id": "XkZRoe_v2_Rx",
    "outputId": "56a680cd-3947-4e46-8e29-f17207d7180d"
   },
   "outputs": [],
   "source": [
    "# Opening\n",
    "kernel = np.ones((5,5), np.uint8)\n",
    "opening = cv2.morphologyEx(image, cv2.MORPH_OPEN, kernel)\n",
    "plt.imshow(opening)\n",
    "plt.show()"
   ]
  },
  {
   "cell_type": "markdown",
   "metadata": {
    "id": "_pfWkN6a2_Rx"
   },
   "source": [
    "### Closing"
   ]
  },
  {
   "cell_type": "code",
   "execution_count": null,
   "metadata": {
    "colab": {
     "base_uri": "https://localhost:8080/",
     "height": 269
    },
    "id": "NORD8MpS2_Ry",
    "outputId": "0c512349-6321-4e83-f858-d7cbe73978d1"
   },
   "outputs": [],
   "source": [
    "# Closing\n",
    "kernel = np.ones((5,5), np.uint8)\n",
    "closing = cv2.morphologyEx(image, cv2.MORPH_CLOSE, kernel)\n",
    "plt.imshow(closing)\n",
    "plt.show()"
   ]
  },
  {
   "cell_type": "markdown",
   "metadata": {
    "id": "fIVw9-Ym4GZN"
   },
   "source": [
    "### Skeletonization"
   ]
  },
  {
   "cell_type": "code",
   "execution_count": null,
   "metadata": {
    "colab": {
     "base_uri": "https://localhost:8080/",
     "height": 1000
    },
    "id": "4ODR_VkC2_Ry",
    "outputId": "32feb613-3712-40dd-d757-f61a767bab0d"
   },
   "outputs": [],
   "source": [
    "# Make empty skeleton image\n",
    "size = np.size(image)\n",
    "skel = np.zeros(image.shape, np.uint8)\n",
    "\n",
    "# Skeletonize\n",
    "element = cv2.getStructuringElement(cv2.MORPH_CROSS, (3, 3))\n",
    "done = False\n",
    "while not done:\n",
    "        \n",
    "    # Eroding\n",
    "    eroded = cv2.erode(image, element)\n",
    "    \n",
    "    # Dilating\n",
    "    dilated = cv2.dilate(eroded, element)\n",
    "        \n",
    "    # Subtraction\n",
    "    temp = cv2.subtract(image, dilated)\n",
    "        \n",
    "    # OR-operation\n",
    "    skel = cv2.bitwise_or(skel, temp)\n",
    "\n",
    "    # Copy eroded image\n",
    "    image = eroded.copy()\n",
    "        \n",
    "    # If eroded image is empty => stop\n",
    "    zeros = size - cv2.countNonZero(image)\n",
    "    if zeros == size:\n",
    "        done = True\n",
    "\n",
    "    # Show result\n",
    "    result = np.concatenate((image, eroded, dilated, temp, skel), axis=1)\n",
    "    plt.imshow(result)\n",
    "    plt.pause(0.001)"
   ]
  }
 ],
 "metadata": {
  "colab": {
   "provenance": []
  },
  "kernelspec": {
   "display_name": "Python 3",
   "language": "python",
   "name": "python3"
  },
  "language_info": {
   "codemirror_mode": {
    "name": "ipython",
    "version": 3
   },
   "file_extension": ".py",
   "mimetype": "text/x-python",
   "name": "python",
   "nbconvert_exporter": "python",
   "pygments_lexer": "ipython3",
   "version": "3.9.0"
  },
  "vscode": {
   "interpreter": {
    "hash": "f3c69faf328a3916ce2aa3304a1a7e915d8d763cc6c47fc93c55f7ce91729b45"
   }
  }
 },
 "nbformat": 4,
 "nbformat_minor": 0
}