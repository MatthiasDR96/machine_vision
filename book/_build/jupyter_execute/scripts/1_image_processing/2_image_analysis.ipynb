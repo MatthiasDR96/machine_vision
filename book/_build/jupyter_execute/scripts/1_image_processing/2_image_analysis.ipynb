{
 "cells": [
  {
   "cell_type": "markdown",
   "metadata": {},
   "source": [
    "# Image Analysis"
   ]
  },
  {
   "cell_type": "code",
   "execution_count": 1,
   "metadata": {},
   "outputs": [],
   "source": [
    "# Imports\n",
    "import cv2\n",
    "import numpy as np\n",
    "import matplotlib.pyplot as plt\n",
    "from mpl_toolkits.mplot3d import Axes3D"
   ]
  },
  {
   "cell_type": "code",
   "execution_count": 2,
   "metadata": {},
   "outputs": [
    {
     "name": "stdout",
     "output_type": "stream",
     "text": [
      "[WinError 3] The system cannot find the path specified: '/content/drive/MyDrive/machine_vision/scripts/1_image_processing'\n",
      "C:\\Users\\matth\\OneDrive - KU Leuven\\Python_Projects\\machine_vision\\book\\scripts\\1_image_processing\n"
     ]
    }
   ],
   "source": [
    "# For use in Google Colab\n",
    "%cd /content/drive/MyDrive/machine_vision/scripts/1_image_processing"
   ]
  },
  {
   "cell_type": "code",
   "execution_count": 3,
   "metadata": {},
   "outputs": [
    {
     "ename": "error",
     "evalue": "OpenCV(4.8.0) D:\\a\\opencv-python\\opencv-python\\opencv\\modules\\imgproc\\src\\color.cpp:182: error: (-215:Assertion failed) !_src.empty() in function 'cv::cvtColor'\n",
     "output_type": "error",
     "traceback": [
      "\u001b[1;31m---------------------------------------------------------------------------\u001b[0m",
      "\u001b[1;31merror\u001b[0m                                     Traceback (most recent call last)",
      "Cell \u001b[1;32mIn[3], line 5\u001b[0m\n\u001b[0;32m      2\u001b[0m image \u001b[38;5;241m=\u001b[39m cv2\u001b[38;5;241m.\u001b[39mimread(\u001b[38;5;124m'\u001b[39m\u001b[38;5;124m../../data/lenna_test_image.png\u001b[39m\u001b[38;5;124m'\u001b[39m)\n\u001b[0;32m      4\u001b[0m \u001b[38;5;66;03m# Image to grayscale\u001b[39;00m\n\u001b[1;32m----> 5\u001b[0m gray \u001b[38;5;241m=\u001b[39m \u001b[43mcv2\u001b[49m\u001b[38;5;241;43m.\u001b[39;49m\u001b[43mcvtColor\u001b[49m\u001b[43m(\u001b[49m\u001b[43mimage\u001b[49m\u001b[43m,\u001b[49m\u001b[43m \u001b[49m\u001b[43mcv2\u001b[49m\u001b[38;5;241;43m.\u001b[39;49m\u001b[43mCOLOR_BGR2GRAY\u001b[49m\u001b[43m)\u001b[49m\n",
      "\u001b[1;31merror\u001b[0m: OpenCV(4.8.0) D:\\a\\opencv-python\\opencv-python\\opencv\\modules\\imgproc\\src\\color.cpp:182: error: (-215:Assertion failed) !_src.empty() in function 'cv::cvtColor'\n"
     ]
    }
   ],
   "source": [
    "# Load image\n",
    "image = cv2.imread('../../data/lenna_test_image.png')\n",
    "    \n",
    "# Image to grayscale\n",
    "gray = cv2.cvtColor(image, cv2.COLOR_BGR2GRAY)"
   ]
  },
  {
   "cell_type": "markdown",
   "metadata": {},
   "source": [
    "### Image histogram"
   ]
  },
  {
   "cell_type": "code",
   "execution_count": null,
   "metadata": {},
   "outputs": [],
   "source": [
    "# Split BGR-channels\n",
    "bgr_planes = cv2.split(image)\n",
    "\n",
    "# Plot gray image\n",
    "plt.figure(1)\n",
    "plt.subplot(1, 2, 1)\n",
    "plt.imshow(gray, cmap='gray')\n",
    "    \n",
    "# Plot gray histogram\n",
    "plt.subplot(1, 2, 2)\n",
    "hist = cv2.calcHist(image, [1], None, [256], [0, 256])\n",
    "plt.plot(hist, color='r')\n",
    "plt.xlim([0, 256])\n",
    "    \n",
    "# Plot bgr image\n",
    "plt.figure(2)\n",
    "plt.subplot(1, 4, 1)\n",
    "plt.imshow(image)\n",
    "    \n",
    "# Plot color histogram\n",
    "for i, col in enumerate(['b', 'g', 'r']):\n",
    "    plt.subplot(1, 4, i + 2)\n",
    "    hist = cv2.calcHist(bgr_planes, [i], None, [256], [0, 256])\n",
    "    plt.plot(hist, color=col)\n",
    "    plt.xlim([0, 256])\n",
    "plt.show()"
   ]
  },
  {
   "cell_type": "markdown",
   "metadata": {},
   "source": [
    "### Image 3D plot"
   ]
  },
  {
   "cell_type": "code",
   "execution_count": null,
   "metadata": {},
   "outputs": [],
   "source": [
    "# Plot image\n",
    "plt.imshow(gray, cmap='gray')\n",
    "\n",
    "# Generate a meshgrid\n",
    "xx, yy = np.mgrid[0:gray.shape[0], 0:gray.shape[1]]\n",
    "\n",
    "# Plot pixel values\n",
    "fig = plt.figure()\n",
    "ax = fig.add_subplot(projection='3d')\n",
    "ax.plot_surface(xx, yy, gray, rstride=1, cstride=1, cmap=plt.cm.gray, linewidth=2)\n",
    "ax.view_init(80, 30)\n",
    "plt.show()"
   ]
  }
 ],
 "metadata": {
  "kernelspec": {
   "display_name": "Python 3.8.0 64-bit",
   "language": "python",
   "name": "python3"
  },
  "language_info": {
   "codemirror_mode": {
    "name": "ipython",
    "version": 3
   },
   "file_extension": ".py",
   "mimetype": "text/x-python",
   "name": "python",
   "nbconvert_exporter": "python",
   "pygments_lexer": "ipython3",
   "version": "3.9.0"
  },
  "vscode": {
   "interpreter": {
    "hash": "9650cb4e16cdd4a8e8e2d128bf38d875813998db22a3c986335f89e0cb4d7bb2"
   }
  }
 },
 "nbformat": 4,
 "nbformat_minor": 4
}