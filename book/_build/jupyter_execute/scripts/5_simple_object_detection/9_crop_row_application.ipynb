{
 "cells": [
  {
   "cell_type": "markdown",
   "metadata": {},
   "source": [
    "### Crop row application"
   ]
  },
  {
   "cell_type": "code",
   "execution_count": 1,
   "metadata": {},
   "outputs": [],
   "source": [
    "# Imports\n",
    "import cv2\n",
    "import math\n",
    "import numpy as np\n",
    "import matplotlib.pyplot as plt"
   ]
  },
  {
   "cell_type": "code",
   "execution_count": 2,
   "metadata": {},
   "outputs": [],
   "source": [
    "# Load image\n",
    "image1 = cv2.imread(\"../../data/crop_field_1.jpg\")\n",
    "image2 = cv2.imread(\"../../data/crop_field_2.jpg\")\n",
    "image = image2"
   ]
  },
  {
   "cell_type": "code",
   "execution_count": 3,
   "metadata": {},
   "outputs": [
    {
     "ename": "ValueError",
     "evalue": "not enough values to unpack (expected 3, got 0)",
     "output_type": "error",
     "traceback": [
      "\u001b[1;31m---------------------------------------------------------------------------\u001b[0m",
      "\u001b[1;31mValueError\u001b[0m                                Traceback (most recent call last)",
      "Cell \u001b[1;32mIn[3], line 2\u001b[0m\n\u001b[0;32m      1\u001b[0m \u001b[38;5;66;03m# Grayscale Transform\u001b[39;00m\n\u001b[1;32m----> 2\u001b[0m b, g, r \u001b[38;5;241m=\u001b[39m cv2\u001b[38;5;241m.\u001b[39msplit(image)\n\u001b[0;32m      3\u001b[0m gray \u001b[38;5;241m=\u001b[39m \u001b[38;5;241m2\u001b[39m \u001b[38;5;241m*\u001b[39m g \u001b[38;5;241m-\u001b[39m r \u001b[38;5;241m-\u001b[39m b\n",
      "\u001b[1;31mValueError\u001b[0m: not enough values to unpack (expected 3, got 0)"
     ]
    }
   ],
   "source": [
    "# Grayscale Transform\n",
    "b, g, r = cv2.split(image)\n",
    "gray = 2 * g - r - b"
   ]
  },
  {
   "cell_type": "code",
   "execution_count": null,
   "metadata": {},
   "outputs": [],
   "source": [
    "# Skeletonization\n",
    "size = np.size(gray)\n",
    "skel = np.zeros(gray.shape, np.uint8)\n",
    "\n",
    "# Threshold\n",
    "ret, image_edit = cv2.threshold(gray, 0, 255, cv2.THRESH_BINARY | cv2.THRESH_OTSU)\n",
    "\n",
    "# Skeletonize\n",
    "element = cv2.getStructuringElement(cv2.MORPH_CROSS, (3, 3))\n",
    "done = False\n",
    "while not done:\n",
    "    eroded = cv2.erode(image_edit, element)\n",
    "    temp = cv2.dilate(eroded, element)\n",
    "    temp = cv2.subtract(image_edit, temp)\n",
    "    skel = cv2.bitwise_or(skel, temp)\n",
    "    image_edit = eroded.copy()\n",
    "    zeros = size - cv2.countNonZero(image_edit)\n",
    "    if zeros == size:\n",
    "        done = True\n",
    "\n",
    "# Shop\n",
    "plt.imshow(skel, cmap='gray')\n",
    "plt.show()\n"
   ]
  },
  {
   "cell_type": "code",
   "execution_count": null,
   "metadata": {},
   "outputs": [],
   "source": [
    "# Hough params\n",
    "HOUGH_RHO = 2  # Distance resolution of the accumulator in pixels\n",
    "HOUGH_ANGLE = math.pi * 10.0 / 180  # Angle resolution of the accumulator in radians\n",
    "HOUGH_THRESHOLD = 30 # Value from which the line is selected in the accumulator\n",
    "\n",
    "# Detect lines\n",
    "crop_line_data_1 = cv2.HoughLines(skel, HOUGH_RHO, HOUGH_ANGLE, HOUGH_THRESHOLD)\n",
    "\n",
    "# Plot lines\n",
    "for line in crop_line_data_1:\n",
    "    theta = line[0][1]\n",
    "    rho = line[0][0]\n",
    "    a = math.cos(theta)\n",
    "    b = math.sin(theta)\n",
    "    x0 = a * rho\n",
    "    y0 = b * rho\n",
    "    point1 = (int(round(x0 + 1000 * (-b))), int(round(y0 + 1000 * a)))\n",
    "    point2 = (int(round(x0 - 1000 * (-b))), int(round(y0 - 1000 * a)))\n",
    "    cv2.line(image, point1, point2, (0, 0, 255), 2)\n",
    "\n",
    "plt.imshow(image)\n",
    "plt.show()"
   ]
  }
 ],
 "metadata": {
  "kernelspec": {
   "display_name": "Python 3.8.0 64-bit",
   "language": "python",
   "name": "python3"
  },
  "language_info": {
   "codemirror_mode": {
    "name": "ipython",
    "version": 3
   },
   "file_extension": ".py",
   "mimetype": "text/x-python",
   "name": "python",
   "nbconvert_exporter": "python",
   "pygments_lexer": "ipython3",
   "version": "3.9.0"
  },
  "vscode": {
   "interpreter": {
    "hash": "9650cb4e16cdd4a8e8e2d128bf38d875813998db22a3c986335f89e0cb4d7bb2"
   }
  }
 },
 "nbformat": 4,
 "nbformat_minor": 2
}