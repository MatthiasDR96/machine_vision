{
 "cells": [
  {
   "cell_type": "markdown",
   "metadata": {},
   "source": [
    "# Measuring application"
   ]
  },
  {
   "cell_type": "code",
   "execution_count": 1,
   "metadata": {},
   "outputs": [],
   "source": [
    "# Imports\n",
    "import cv2\n",
    "import imutils\n",
    "import numpy as np\n",
    "from imutils import contours\n",
    "from imutils import perspective\n",
    "from scipy.spatial import distance as dist\n",
    "import matplotlib.pyplot as plt"
   ]
  },
  {
   "cell_type": "code",
   "execution_count": 2,
   "metadata": {},
   "outputs": [],
   "source": [
    "# Load the image\n",
    "image = cv2.imread('../../data/measuring_image.png')"
   ]
  },
  {
   "cell_type": "code",
   "execution_count": 3,
   "metadata": {},
   "outputs": [
    {
     "ename": "error",
     "evalue": "OpenCV(4.8.0) D:\\a\\opencv-python\\opencv-python\\opencv\\modules\\imgproc\\src\\color.cpp:182: error: (-215:Assertion failed) !_src.empty() in function 'cv::cvtColor'\n",
     "output_type": "error",
     "traceback": [
      "\u001b[1;31m---------------------------------------------------------------------------\u001b[0m",
      "\u001b[1;31merror\u001b[0m                                     Traceback (most recent call last)",
      "Cell \u001b[1;32mIn[3], line 2\u001b[0m\n\u001b[0;32m      1\u001b[0m \u001b[38;5;66;03m# Convert it to grayscale\u001b[39;00m\n\u001b[1;32m----> 2\u001b[0m gray \u001b[38;5;241m=\u001b[39m \u001b[43mcv2\u001b[49m\u001b[38;5;241;43m.\u001b[39;49m\u001b[43mcvtColor\u001b[49m\u001b[43m(\u001b[49m\u001b[43mimage\u001b[49m\u001b[43m,\u001b[49m\u001b[43m \u001b[49m\u001b[43mcv2\u001b[49m\u001b[38;5;241;43m.\u001b[39;49m\u001b[43mCOLOR_BGR2GRAY\u001b[49m\u001b[43m)\u001b[49m\n\u001b[0;32m      4\u001b[0m \u001b[38;5;66;03m# Blur it slightly\u001b[39;00m\n\u001b[0;32m      5\u001b[0m gray_gb \u001b[38;5;241m=\u001b[39m cv2\u001b[38;5;241m.\u001b[39mGaussianBlur(gray, (\u001b[38;5;241m7\u001b[39m, \u001b[38;5;241m7\u001b[39m), \u001b[38;5;241m0\u001b[39m)\n",
      "\u001b[1;31merror\u001b[0m: OpenCV(4.8.0) D:\\a\\opencv-python\\opencv-python\\opencv\\modules\\imgproc\\src\\color.cpp:182: error: (-215:Assertion failed) !_src.empty() in function 'cv::cvtColor'\n"
     ]
    }
   ],
   "source": [
    "# Convert it to grayscale\n",
    "gray = cv2.cvtColor(image, cv2.COLOR_BGR2GRAY)\n",
    "\n",
    "# Blur it slightly\n",
    "gray_gb = cv2.GaussianBlur(gray, (7, 7), 0)\n",
    "    \n",
    "# Perform edge detection\n",
    "edged = cv2.Canny(gray_gb, 50, 100)\n",
    "    \n",
    "# Perform a dilation + erosion to close gaps in between object edges\n",
    "edged_d = cv2.dilate(edged, None, iterations=1)\n",
    "edged_e = cv2.erode(edged_d, None, iterations=1)"
   ]
  },
  {
   "cell_type": "code",
   "execution_count": null,
   "metadata": {},
   "outputs": [],
   "source": [
    "# Show result\n",
    "rsize = 0.5\n",
    "result1 = np.concatenate((cv2.resize(image[:, :, 0], (0, 0), None, rsize, rsize),\n",
    "                        cv2.resize(gray, (0, 0), None, rsize, rsize),\n",
    "                        cv2.resize(gray_gb, (0, 0), None, rsize, rsize)), axis=1)\n",
    "result2 = np.concatenate((\n",
    "                        cv2.resize(edged, (0, 0), None, rsize, rsize), cv2.resize(edged_d, (0, 0), None, rsize, rsize),\n",
    "                        cv2.resize(edged_e, (0, 0), None, rsize, rsize)), axis=1)\n",
    "result = np.concatenate((result1, result2), axis=0)\n",
    "plt.imshow(result, cmap='gray')\n",
    "plt.show()"
   ]
  },
  {
   "cell_type": "code",
   "execution_count": null,
   "metadata": {},
   "outputs": [],
   "source": [
    "# Find contours in the edge map\n",
    "cnts = cv2.findContours(edged_e.copy(), cv2.RETR_EXTERNAL, cv2.CHAIN_APPROX_SIMPLE)\n",
    "cnts = imutils.grab_contours(cnts)\n",
    "\n",
    "# Sort the contours from left-to-right and initialize the 'pixels per metric' calibration variable\n",
    "(cnts, _) = contours.sort_contours(cnts)"
   ]
  },
  {
   "cell_type": "code",
   "execution_count": null,
   "metadata": {},
   "outputs": [],
   "source": [
    "# Loop over the contours individually\n",
    "boxes = []\n",
    "for c in cnts:\n",
    "    \n",
    "    # If the contour is not sufficiently large, ignore it\n",
    "    if cv2.contourArea(c) < 100:\n",
    "        continue\n",
    "    \n",
    "    # Compute the rotated bounding box of the contour\n",
    "    box = cv2.minAreaRect(c)\n",
    "    box = cv2.cv.BoxPoints(box) if imutils.is_cv2() else cv2.boxPoints(box)\n",
    "    box = np.array(box, dtype=\"int\")\n",
    "    \n",
    "    # Order the points in the contour such that they appear in top-left, top-right, bottom-right, and bottom-left\n",
    "    box = perspective.order_points(box)\n",
    "    boxes.append(box)\n",
    "        \n",
    "    # Draw the outline of the rotated bounding box\n",
    "    cv2.drawContours(image, [box.astype(\"int\")], -1, (0, 255, 0), 2)\n",
    "    plt.imshow(image)\n",
    "\n",
    "plt.show()"
   ]
  },
  {
   "cell_type": "code",
   "execution_count": null,
   "metadata": {},
   "outputs": [],
   "source": [
    "# Takes the mean of two points\n",
    "def midpoint(ptA, ptB):\n",
    "    return (ptA[0] + ptB[0]) * 0.5, (ptA[1] + ptB[1]) * 0.5"
   ]
  },
  {
   "cell_type": "code",
   "execution_count": null,
   "metadata": {},
   "outputs": [],
   "source": [
    "# Iterate over boxes\n",
    "for box in boxes:\n",
    "\n",
    "    # Unpack the box points\n",
    "    (tl, tr, br, bl) = box\n",
    "        \n",
    "    # Compute the midpoint between the top-left and top-right coordinates\n",
    "    (tltrX, tltrY) = midpoint(tl, tr)\n",
    "\n",
    "    # Compute the midpoint between bottom-left and bottom-right coordinates\n",
    "    (blbrX, blbrY) = midpoint(bl, br)\n",
    "    \n",
    "    # Compute the midpoint between the top-left and bottom-left points,\n",
    "    (tlblX, tlblY) = midpoint(tl, bl)\n",
    "\n",
    "    # Compute the midpoint between the top-righ and bottom-right\n",
    "    (trbrX, trbrY) = midpoint(tr, br)\n",
    "    \n",
    "    # Draw the midpoints on the image\n",
    "    cv2.circle(image, (int(tltrX), int(tltrY)), 5, (255, 0, 0), -1)\n",
    "    cv2.circle(image, (int(blbrX), int(blbrY)), 5, (255, 0, 0), -1)\n",
    "    cv2.circle(image, (int(tlblX), int(tlblY)), 5, (255, 0, 0), -1)\n",
    "    cv2.circle(image, (int(trbrX), int(trbrY)), 5, (255, 0, 0), -1)\n",
    "    \n",
    "    # Draw lines between the midpoints\n",
    "    cv2.line(image, (int(tltrX), int(tltrY)), (int(blbrX), int(blbrY)), (255, 0, 255), 2)\n",
    "    cv2.line(image, (int(tlblX), int(tlblY)), (int(trbrX), int(trbrY)), (255, 0, 255), 2)\n",
    "    \n",
    "    # Compute the Euclidean distance between the midpoints\n",
    "    dA = dist.euclidean((tltrX, tltrY), (blbrX, blbrY))\n",
    "    dB = dist.euclidean((tlblX, tlblY), (trbrX, trbrY))\n",
    "    \n",
    "    # if the pixels per metric has not been initialized, then\n",
    "    # compute it as the ratio of pixels to supplied metric\n",
    "    pixelsPerMetric = dB / 24.25700\n",
    "    print(\"\\nPixels per metric = \" + str(pixelsPerMetric))\n",
    "    \n",
    "    # Compute the size of the object\n",
    "    dimA = dA / pixelsPerMetric\n",
    "    dimB = dB / pixelsPerMetric\n",
    "    print(\"\\nDimensions = \" + str((dimA, dimB)))"
   ]
  },
  {
   "cell_type": "code",
   "execution_count": null,
   "metadata": {},
   "outputs": [],
   "source": [
    "# Show image\n",
    "plt.imshow(image)\n",
    "plt.show()"
   ]
  }
 ],
 "metadata": {
  "kernelspec": {
   "display_name": "Python 3.8.0 64-bit",
   "language": "python",
   "name": "python3"
  },
  "language_info": {
   "codemirror_mode": {
    "name": "ipython",
    "version": 3
   },
   "file_extension": ".py",
   "mimetype": "text/x-python",
   "name": "python",
   "nbconvert_exporter": "python",
   "pygments_lexer": "ipython3",
   "version": "3.9.0"
  },
  "vscode": {
   "interpreter": {
    "hash": "9650cb4e16cdd4a8e8e2d128bf38d875813998db22a3c986335f89e0cb4d7bb2"
   }
  }
 },
 "nbformat": 4,
 "nbformat_minor": 2
}