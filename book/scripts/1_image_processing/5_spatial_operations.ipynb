{
  "cells": [
    {
      "cell_type": "markdown",
      "metadata": {
        "id": "REWLuC6BaDHj"
      },
      "source": [
        "# Spatial operations"
      ]
    },
    {
      "cell_type": "code",
      "execution_count": 2,
      "metadata": {
        "id": "pbjJXry8aDHm"
      },
      "outputs": [],
      "source": [
        "# Imports\n",
        "import cv2\n",
        "import numpy as np\n",
        "import matplotlib.pyplot as plt"
      ]
    },
    {
      "cell_type": "code",
      "execution_count": null,
      "metadata": {
        "colab": {
          "base_uri": "https://localhost:8080/"
        },
        "id": "B4EBnJihexaq",
        "outputId": "28f6f4bc-40b9-4048-b201-b812a2788884"
      },
      "outputs": [],
      "source": [
        "# For use in Google Colab\n",
        "%cd /content/drive/MyDrive/machine_vision/scripts/1_image_processing"
      ]
    },
    {
      "cell_type": "code",
      "execution_count": null,
      "metadata": {
        "colab": {
          "base_uri": "https://localhost:8080/",
          "height": 269
        },
        "id": "7x3AQdmjaDHo",
        "outputId": "8cbbf543-f25b-45c9-f0a3-1ecffb81cce7"
      },
      "outputs": [],
      "source": [
        "# Load image\n",
        "img = cv2.imread('../../data/lenna_test_image.png')\n",
        "plt.imshow(img)\n",
        "plt.show()"
      ]
    },
    {
      "cell_type": "markdown",
      "metadata": {
        "id": "D3LSG2zBaDHp"
      },
      "source": [
        "### Convolutional kernels: Mean kernel"
      ]
    },
    {
      "cell_type": "code",
      "execution_count": null,
      "metadata": {
        "colab": {
          "base_uri": "https://localhost:8080/",
          "height": 345
        },
        "id": "MGiBADPLaDHp",
        "outputId": "cdbcd585-2790-4fee-f5e8-9e95399eb7e3"
      },
      "outputs": [],
      "source": [
        "# Define array\n",
        "array = img[100:110, 100:110, 1]\n",
        "\n",
        "# Define convolutional kernel\n",
        "kernel = np.ones((3, 3), np.float32) / 9\n",
        "result = cv2.filter2D(img, -1, kernel)\n",
        "result = cv2.resize(result, (0, 0), None, .5, .5)\n",
        "\n",
        "# Define convolutional kernel\n",
        "kernel1 = np.ones((5, 5), np.float32) / 25\n",
        "result1 = cv2.filter2D(img, -1, kernel1)\n",
        "result1 = cv2.resize(result1, (0, 0), None, .5, .5)\n",
        "\n",
        "# Define convolutional kernel\n",
        "kernel2 = np.ones((10, 10), np.float32) / 100\n",
        "result2 = cv2.filter2D(img, -1, kernel2)\n",
        "result2 = cv2.resize(result2, (0, 0), None, .5, .5)\n",
        "\n",
        "# Define convolutional kernel\n",
        "kernel3 = np.ones((20, 20), np.float32) / 400\n",
        "result3 = cv2.filter2D(img, -1, kernel3)\n",
        "result3 = cv2.resize(result3, (0, 0), None, .5, .5)\n",
        "\n",
        "# Array result\n",
        "Z = cv2.filter2D(array, -1, kernel3)\n",
        "print(Z)\n",
        "\n",
        "# Concatenate results\n",
        "img = cv2.resize(img, (0, 0), None, .5, .5)\n",
        "result = np.concatenate((img, result, result1, result2, result3), axis=1)\n",
        "\n",
        "# Plot results\n",
        "plt.imshow(result)\n",
        "plt.show()\n"
      ]
    },
    {
      "cell_type": "markdown",
      "metadata": {
        "id": "jPaAJwF7g_BS"
      },
      "source": [
        "### Convolutional kernels: Gaussian kernel "
      ]
    },
    {
      "cell_type": "code",
      "execution_count": null,
      "metadata": {
        "colab": {
          "base_uri": "https://localhost:8080/",
          "height": 219
        },
        "id": "a81exgUog_po",
        "outputId": "fa44e0d1-f543-4943-8a16-6a85eb48653c"
      },
      "outputs": [],
      "source": [
        "# Perform convolution\n",
        "result = cv2.GaussianBlur(img, (3, 33), 0)\n",
        "\n",
        "# Concatenate images\n",
        "result = np.concatenate((img, result), axis=1)\n",
        "\n",
        "# Plot results\n",
        "plt.imshow(result)\n",
        "plt.show()"
      ]
    },
    {
      "attachments": {},
      "cell_type": "markdown",
      "metadata": {
        "id": "QDStLl79hAAa"
      },
      "source": [
        "### Convolutional kernel: Sharpening"
      ]
    },
    {
      "cell_type": "code",
      "execution_count": null,
      "metadata": {
        "colab": {
          "base_uri": "https://localhost:8080/",
          "height": 219
        },
        "id": "chYhiiIDhAdw",
        "outputId": "636c5a54-fd95-4deb-ef07-dcec8b3fe44f"
      },
      "outputs": [],
      "source": [
        "# Define convolutional kernel\n",
        "kernel = np.ones((3, 3), np.float32) * -1\n",
        "kernel[1][1] = 9\n",
        "\n",
        "# Perform convolution\n",
        "result = cv2.filter2D(img, -1, kernel)\n",
        "\n",
        "# Concatenate images\n",
        "result = np.concatenate((img, result), axis=1)\n",
        "\n",
        "# Plot results\n",
        "plt.imshow(result)\n",
        "plt.show()"
      ]
    },
    {
      "attachments": {},
      "cell_type": "markdown",
      "metadata": {
        "id": "yQYiDWH_jCps"
      },
      "source": [
        "### Convolutional kernel: Edge detection"
      ]
    },
    {
      "cell_type": "code",
      "execution_count": null,
      "metadata": {
        "colab": {
          "base_uri": "https://localhost:8080/",
          "height": 219
        },
        "id": "tLMaNHTGjFOY",
        "outputId": "5b79027d-735a-44de-cb75-fbbb9702591b"
      },
      "outputs": [],
      "source": [
        "# Define convolutional kernel\n",
        "kernel = np.ones((3, 3), np.float32) * -1\n",
        "kernel[1][1] = 8\n",
        "\n",
        "# Perform convolution\n",
        "result = cv2.filter2D(img, -1, kernel)\n",
        "\n",
        "# Concatenate images\n",
        "result = np.concatenate((img, result), axis=1)\n",
        "\n",
        "# Plot results\n",
        "plt.imshow(result)\n",
        "plt.show()"
      ]
    },
    {
      "cell_type": "markdown",
      "metadata": {
        "id": "yYIb4bdGrq_h"
      },
      "source": [
        "### Template matching"
      ]
    },
    {
      "cell_type": "code",
      "execution_count": null,
      "metadata": {
        "colab": {
          "base_uri": "https://localhost:8080/",
          "height": 521
        },
        "id": "v956OcPjr23x",
        "outputId": "358f5dad-e9b3-4b0a-a117-2e42f4ca5cd7"
      },
      "outputs": [],
      "source": [
        "# Load the source image and the template\n",
        "img = cv2.imread('../../data/mario.jpg')\n",
        "img_gray = cv2.cvtColor(img, cv2.COLOR_BGR2GRAY)\n",
        "template = cv2.imread('../../data/mario_coin.jpg', 0)\n",
        "w, h = template.shape[::-1]\n",
        "source = img.copy()\n",
        "\n",
        "# Template matching \n",
        "res = cv2.matchTemplate(img_gray,template,cv2.TM_CCOEFF_NORMED)\n",
        "threshold = 0.8\n",
        "loc = np.where( res >= threshold)\n",
        "for pt in zip(*loc[::-1]):\n",
        "  cv2.rectangle(img, pt, (pt[0] + w, pt[1] + h), (0,0,255), 2)\n",
        "\n",
        "plt.imshow(cv2.cvtColor(source, cv2.COLOR_BGR2RGB))\n",
        "plt.show()\n",
        "plt.imshow(cv2.cvtColor(img, cv2.COLOR_BGR2RGB))\n",
        "plt.show()"
      ]
    }
  ],
  "metadata": {
    "colab": {
      "provenance": []
    },
    "kernelspec": {
      "display_name": "Python 3",
      "language": "python",
      "name": "python3"
    },
    "language_info": {
      "codemirror_mode": {
        "name": "ipython",
        "version": 3
      },
      "file_extension": ".py",
      "mimetype": "text/x-python",
      "name": "python",
      "nbconvert_exporter": "python",
      "pygments_lexer": "ipython3",
      "version": "3.10.0"
    },
    "orig_nbformat": 4,
    "vscode": {
      "interpreter": {
        "hash": "f3c69faf328a3916ce2aa3304a1a7e915d8d763cc6c47fc93c55f7ce91729b45"
      }
    }
  },
  "nbformat": 4,
  "nbformat_minor": 0
}
