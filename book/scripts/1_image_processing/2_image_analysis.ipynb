{
 "cells": [
  {
   "cell_type": "markdown",
   "metadata": {},
   "source": [
    "# Image Analysis"
   ]
  },
  {
   "cell_type": "code",
   "execution_count": null,
   "metadata": {},
   "outputs": [],
   "source": [
    "# Imports\n",
    "import cv2\n",
    "import numpy as np\n",
    "import matplotlib.pyplot as plt\n",
    "from mpl_toolkits.mplot3d import Axes3D"
   ]
  },
  {
   "cell_type": "code",
   "execution_count": null,
   "metadata": {},
   "outputs": [],
   "source": [
    "# For use in Google Colab\n",
    "%cd /content/drive/MyDrive/machine_vision/scripts/1_image_processing"
   ]
  },
  {
   "cell_type": "code",
   "execution_count": null,
   "metadata": {},
   "outputs": [],
   "source": [
    "# Load image\n",
    "image = cv2.imread('../../data/lenna_test_image.png')\n",
    "    \n",
    "# Image to grayscale\n",
    "gray = cv2.cvtColor(image, cv2.COLOR_BGR2GRAY)"
   ]
  },
  {
   "cell_type": "markdown",
   "metadata": {},
   "source": [
    "### Image histogram"
   ]
  },
  {
   "cell_type": "code",
   "execution_count": null,
   "metadata": {},
   "outputs": [],
   "source": [
    "# Split BGR-channels\n",
    "bgr_planes = cv2.split(image)\n",
    "\n",
    "# Plot gray image\n",
    "plt.figure(1)\n",
    "plt.subplot(1, 2, 1)\n",
    "plt.imshow(gray, cmap='gray')\n",
    "    \n",
    "# Plot gray histogram\n",
    "plt.subplot(1, 2, 2)\n",
    "hist = cv2.calcHist(image, [1], None, [256], [0, 256])\n",
    "plt.plot(hist, color='r')\n",
    "plt.xlim([0, 256])\n",
    "    \n",
    "# Plot bgr image\n",
    "plt.figure(2)\n",
    "plt.subplot(1, 4, 1)\n",
    "plt.imshow(image)\n",
    "    \n",
    "# Plot color histogram\n",
    "for i, col in enumerate(['b', 'g', 'r']):\n",
    "    plt.subplot(1, 4, i + 2)\n",
    "    hist = cv2.calcHist(bgr_planes, [i], None, [256], [0, 256])\n",
    "    plt.plot(hist, color=col)\n",
    "    plt.xlim([0, 256])\n",
    "plt.show()"
   ]
  },
  {
   "cell_type": "markdown",
   "metadata": {},
   "source": [
    "### Image 3D plot"
   ]
  },
  {
   "cell_type": "code",
   "execution_count": null,
   "metadata": {},
   "outputs": [],
   "source": [
    "# Plot image\n",
    "plt.imshow(gray, cmap='gray')\n",
    "\n",
    "# Generate a meshgrid\n",
    "xx, yy = np.mgrid[0:gray.shape[0], 0:gray.shape[1]]\n",
    "\n",
    "# Plot pixel values\n",
    "fig = plt.figure()\n",
    "ax = fig.add_subplot(projection='3d')\n",
    "ax.plot_surface(xx, yy, gray, rstride=1, cstride=1, cmap=plt.cm.gray, linewidth=2)\n",
    "ax.view_init(80, 30)\n",
    "plt.show()"
   ]
  }
 ],
 "metadata": {
  "kernelspec": {
   "display_name": "Python 3.8.0 64-bit",
   "language": "python",
   "name": "python3"
  },
  "language_info": {
   "codemirror_mode": {
    "name": "ipython",
    "version": 3
   },
   "file_extension": ".py",
   "mimetype": "text/x-python",
   "name": "python",
   "nbconvert_exporter": "python",
   "pygments_lexer": "ipython3",
   "version": "3.8.0"
  },
  "vscode": {
   "interpreter": {
    "hash": "9650cb4e16cdd4a8e8e2d128bf38d875813998db22a3c986335f89e0cb4d7bb2"
   }
  }
 },
 "nbformat": 4,
 "nbformat_minor": 4
}
