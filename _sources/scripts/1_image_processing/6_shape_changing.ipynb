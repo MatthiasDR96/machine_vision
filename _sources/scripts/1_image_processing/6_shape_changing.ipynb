{
  "cells": [
    {
      "cell_type": "markdown",
      "metadata": {
        "id": "s4McT-o5lgpY"
      },
      "source": [
        "# Shape changing"
      ]
    },
    {
      "cell_type": "code",
      "execution_count": 2,
      "metadata": {
        "id": "BadXRT5mlgpb"
      },
      "outputs": [],
      "source": [
        "# Imports\n",
        "import cv2\n",
        "import numpy as np\n",
        "import matplotlib.pyplot as plt"
      ]
    },
    {
      "cell_type": "code",
      "execution_count": null,
      "metadata": {
        "colab": {
          "base_uri": "https://localhost:8080/"
        },
        "id": "70hHwpHAmVrw",
        "outputId": "4dd50245-e20f-4816-dc17-269160950d3d"
      },
      "outputs": [],
      "source": [
        "# For use in Google Colab\n",
        "%cd /content/drive/MyDrive/machine_vision/scripts/1_image_processing"
      ]
    },
    {
      "cell_type": "code",
      "execution_count": null,
      "metadata": {
        "colab": {
          "base_uri": "https://localhost:8080/",
          "height": 269
        },
        "id": "CE54aEoFlgpc",
        "outputId": "1f3e5334-fb6d-4d75-d06c-3b0312cca40e"
      },
      "outputs": [],
      "source": [
        "# Load image\n",
        "image = cv2.imread('../../data/letter_j.png')\n",
        "image = cv2.cvtColor(image, cv2.COLOR_BGR2RGB)\n",
        "plt.imshow(image)\n",
        "plt.show()"
      ]
    },
    {
      "cell_type": "markdown",
      "metadata": {
        "id": "fpwi5xLnlgpd"
      },
      "source": [
        "### Cropping"
      ]
    },
    {
      "cell_type": "code",
      "execution_count": null,
      "metadata": {
        "colab": {
          "base_uri": "https://localhost:8080/",
          "height": 272
        },
        "id": "KnuMqd-XnL8b",
        "outputId": "415b0a0d-c10d-4d95-8de6-9e1615860eb0"
      },
      "outputs": [],
      "source": [
        "#Shape of the image\n",
        "print('The shape of the image is', image.shape)\n",
        "\n",
        "#Crop of the image\n",
        "result = image[10:45, 105:140]\n",
        "\n",
        "#Plot\n",
        "plt.subplot(1, 2, 1)\n",
        "plt.imshow(image)\n",
        "plt.subplot(1, 2, 2)\n",
        "plt.imshow(result)\n",
        "plt.show()"
      ]
    },
    {
      "cell_type": "markdown",
      "metadata": {
        "id": "339s0uO5lgpe"
      },
      "source": [
        "### Image resizing"
      ]
    },
    {
      "cell_type": "code",
      "execution_count": null,
      "metadata": {
        "colab": {
          "base_uri": "https://localhost:8080/",
          "height": 256
        },
        "id": "JiO7pytjnMgc",
        "outputId": "c8d721b2-b73e-420f-ccb7-320289eb81a7"
      },
      "outputs": [],
      "source": [
        "#Preserving the aspect ratio\n",
        "scale_percent = 50\n",
        "\n",
        "height = int(image.shape[0] * scale_percent/100)\n",
        "width = int(image.shape[1] * scale_percent/100)\n",
        "\n",
        "new_size = (width, height)\n",
        "\n",
        "#Resizing the image\n",
        "result = cv2.resize(image, new_size)\n",
        "\n",
        "#Plot\n",
        "plt.subplot(1, 2, 1)\n",
        "plt.imshow(image)\n",
        "plt.subplot(1, 2, 2)\n",
        "plt.axis([0, 185, 248, 0])\n",
        "plt.imshow(result)\n",
        "plt.show()"
      ]
    },
    {
      "cell_type": "markdown",
      "metadata": {
        "id": "bMYgBZGelgpe"
      },
      "source": [
        "### Image pyramids"
      ]
    },
    {
      "cell_type": "code",
      "execution_count": null,
      "metadata": {
        "colab": {
          "base_uri": "https://localhost:8080/",
          "height": 269
        },
        "id": "dZOK3CtPnNAd",
        "outputId": "308a681d-4bfa-4127-d259-9c404693fd96"
      },
      "outputs": [],
      "source": [
        "#creating an image pyramid of 4 deep\n",
        "deep = 3\n",
        "layer = image.copy()\n",
        "plt.subplot(deep+1,1,1)\n",
        "plt.imshow(layer)\n",
        "\n",
        "for i in range(deep):\n",
        "    plt.subplot(deep+1, 1, i + 2)\n",
        "    plt.axis([0, 185, 248, 0])\n",
        "# using pyrDown() function\n",
        "    layer = cv2.pyrDown(layer)\n",
        "    plt.imshow(layer)\n",
        "    \n",
        "plt.show()"
      ]
    },
    {
      "cell_type": "markdown",
      "metadata": {
        "id": "Qx7CIXX2lgpf"
      },
      "source": [
        "### Image warping"
      ]
    },
    {
      "cell_type": "code",
      "execution_count": null,
      "metadata": {
        "colab": {
          "base_uri": "https://localhost:8080/",
          "height": 269
        },
        "id": "81fcSbAilgpf",
        "outputId": "2408b71f-b82e-4236-bc0f-5c303243cf78"
      },
      "outputs": [],
      "source": [
        "# Define warping points\n",
        "points_A = np.float32([[50, 2000], [150,200], [150,50], [50, 500]])\n",
        "points_B = np.float32([[0, 250], [200, 250], [200, 0], [0,0]])\n",
        "\n",
        "# Get perspective transform\n",
        "M = cv2.getPerspectiveTransform(points_A, points_B)\n",
        "\n",
        "# Warp image\n",
        "warped = cv2.warpPerspective(image, M, (300, 300))\n",
        "\n",
        "# Show\n",
        "plt.imshow(warped)\n",
        "plt.show()"
      ]
    }
  ],
  "metadata": {
    "colab": {
      "provenance": []
    },
    "kernelspec": {
      "display_name": "Python 3",
      "language": "python",
      "name": "python3"
    },
    "language_info": {
      "codemirror_mode": {
        "name": "ipython",
        "version": 3
      },
      "file_extension": ".py",
      "mimetype": "text/x-python",
      "name": "python",
      "nbconvert_exporter": "python",
      "pygments_lexer": "ipython3",
      "version": "3.10.0 (tags/v3.10.0:b494f59, Oct  4 2021, 19:00:18) [MSC v.1929 64 bit (AMD64)]"
    },
    "orig_nbformat": 4,
    "vscode": {
      "interpreter": {
        "hash": "f3c69faf328a3916ce2aa3304a1a7e915d8d763cc6c47fc93c55f7ce91729b45"
      }
    }
  },
  "nbformat": 4,
  "nbformat_minor": 0
}
