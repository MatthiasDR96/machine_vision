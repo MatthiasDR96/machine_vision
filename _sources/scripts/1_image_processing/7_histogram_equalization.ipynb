{
 "cells": [
  {
   "cell_type": "markdown",
   "metadata": {},
   "source": [
    "# Histogram equalization"
   ]
  },
  {
   "cell_type": "code",
   "execution_count": null,
   "metadata": {},
   "outputs": [],
   "source": [
    "# Imports\n",
    "import cv2\n",
    "import numpy as np\n",
    "import matplotlib.pyplot as plt"
   ]
  },
  {
   "cell_type": "code",
   "execution_count": null,
   "metadata": {},
   "outputs": [],
   "source": [
    "# Load image\n",
    "image = cv2.imread('../../data/lenna_test_image.png')\n",
    "    \n",
    "# Image to grayscale\n",
    "gray = cv2.cvtColor(image, cv2.COLOR_BGR2GRAY)"
   ]
  },
  {
   "cell_type": "code",
   "execution_count": null,
   "metadata": {},
   "outputs": [],
   "source": [
    "# Histogram Equalization\n",
    "equ = cv2.equalizeHist(gray)\n",
    "\n",
    "# Subplot for original image\n",
    "plt.figure()\n",
    "plt.subplot(3, 2, 1)\n",
    "plt.imshow(gray, cmap='gray')\n",
    "plt.title('Original')\n",
    "\n",
    "# Subplot for equalized image\n",
    "plt.subplot(3, 2, 2)\n",
    "plt.imshow(equ, cmap='gray')\n",
    "plt.title('Histogram Equalized')\n",
    "\n",
    "# Subplots for histograms\n",
    "plt.subplot(3, 2, 3)\n",
    "plt.hist(gray.ravel(), bins=255, cumulative=True)\n",
    "plt.subplot(3, 2, 4)\n",
    "plt.hist(equ.ravel(), bins=255, cumulative=True)\n",
    "\n",
    "# Subplots for CDFs\n",
    "plt.subplot(3, 2, 5)\n",
    "plt.hist(gray.ravel(), bins=255, cumulative=True)\n",
    "plt.subplot(3, 2, 6)\n",
    "plt.hist(equ.ravel(), bins=255, cumulative=True)\n",
    "plt.show()\n"
   ]
  }
 ],
 "metadata": {
  "kernelspec": {
   "display_name": "Python 3.8.0 64-bit",
   "language": "python",
   "name": "python3"
  },
  "language_info": {
   "name": "python",
   "version": "3.8.0"
  },
  "orig_nbformat": 4,
  "vscode": {
   "interpreter": {
    "hash": "9650cb4e16cdd4a8e8e2d128bf38d875813998db22a3c986335f89e0cb4d7bb2"
   }
  }
 },
 "nbformat": 4,
 "nbformat_minor": 2
}
