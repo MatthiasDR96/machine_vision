{
 "cells": [
  {
   "cell_type": "markdown",
   "metadata": {},
   "source": [
    "# Panorama application"
   ]
  },
  {
   "cell_type": "code",
   "execution_count": null,
   "metadata": {},
   "outputs": [],
   "source": [
    "# Imports\n",
    "import cv2\n",
    "import numpy as np\n",
    "from matplotlib import pyplot as plt"
   ]
  },
  {
   "cell_type": "code",
   "execution_count": null,
   "metadata": {},
   "outputs": [],
   "source": [
    "# Load images\n",
    "img_11 = cv2.imread('../../data/panorama_1_1.jpg')\n",
    "img_12 = cv2.imread('../../data/panorama_1_2.jpg')\n",
    "img_21 = cv2.imread('../../data/panorama_2_1.jpg')\n",
    "img_22 = cv2.imread('../../data/panorama_2_2.jpg')\n",
    "img1 = img_11\n",
    "img2 = img_12"
   ]
  },
  {
   "cell_type": "code",
   "execution_count": null,
   "metadata": {},
   "outputs": [],
   "source": [
    "# Convert images to grayscale\n",
    "img1 = cv2.cvtColor(img1, cv2.COLOR_BGR2GRAY)\n",
    "img2 = cv2.cvtColor(img2, cv2.COLOR_BGR2GRAY)"
   ]
  },
  {
   "cell_type": "code",
   "execution_count": null,
   "metadata": {},
   "outputs": [],
   "source": [
    "\n",
    "# Detect features and calculate feature descriptors\n",
    "sift = cv2.SIFT_create() \n",
    "kp1, des1 = sift.detectAndCompute(img1, None)\n",
    "kp2, des2 = sift.detectAndCompute(img2, None)\n",
    "\n",
    "# Plot descriptors\n",
    "plt.figure()\n",
    "image_1_keys = img1.copy()\n",
    "cv2.drawKeypoints(img1, kp1, image_1_keys)\n",
    "plt.imshow(image_1_keys)\n",
    "\n",
    "plt.figure()\n",
    "image_2_keys = img2.copy()\n",
    "cv2.drawKeypoints(img2, kp2, image_2_keys)\n",
    "plt.imshow(image_2_keys)\n",
    "plt.show()\n",
    "\n",
    "# Create Brute Force Matcher\n",
    "bf = cv2.BFMatcher()\n",
    "\n",
    "# Select the top-2 matches of the descriptors\n",
    "matches = np.array(bf.knnMatch(des1, des2, k=2))\n",
    "\n",
    "# Select good matches\n",
    "good = []\n",
    "for m in matches:\n",
    "    if m[0].distance < 0.5 * m[1].distance:\n",
    "        good.append(m)\n",
    "matches = np.asarray(good)\n",
    "\n",
    "# Calculate the homography matrix of the 2 images using RANSAC\n",
    "if len(matches[:, 0]) >= 4:\n",
    "    \n",
    "    # Get pixel coordinates p of the matched features in the source image\n",
    "    src = []\n",
    "    for m in matches[:, 0]:\n",
    "        match_index = m.queryIdx\n",
    "        pixel_coordinates_of_keypoint = kp1[match_index].pt\n",
    "        src.append(pixel_coordinates_of_keypoint)\n",
    "    src = np.float32(src).reshape(-1, 1, 2)\n",
    "    print(\"\\nList of pixel coordinates in source image:\")\n",
    "    print(src[0:5, :])\n",
    "\n",
    "    # Get pixel coordinates p of the matched features in the destination image\n",
    "    dst = []\n",
    "    for m in matches[:, 0]:\n",
    "        match_index = m.trainIdx\n",
    "        pixel_coordinates_of_keypoint = kp2[match_index].pt\n",
    "        dst.append(pixel_coordinates_of_keypoint)\n",
    "    dst = np.float32(dst).reshape(-1, 1, 2)\n",
    "    print(\"\\nList of pixel coordinates in destination image:\")\n",
    "    print(dst[0:5, :])\n",
    "    \n",
    "    # Compute H using correspondences\n",
    "    H, masked = cv2.findHomography(src, dst, cv2.RANSAC, 5.0)\n",
    "    \n",
    "    # Print matrix H\n",
    "    print(\"\\nHomography matrix:\")\n",
    "    print(H)\n",
    "    \n",
    "else:\n",
    "    raise AssertionError('Can’t find enough keypoints.')\n",
    "\n",
    "# Stitch the images by transforming the destination image with the homography matrix\n",
    "dst = cv2.warpPerspective(img1, H, ((img1.shape[1] + img2.shape[1]), img2.shape[0]))  # Warped image\n",
    "plt.imshow(dst, cmap='gray')\n",
    "plt.show()\n",
    "\n",
    "dst[0:img2.shape[0], 0:img2.shape[1]] = img2  # Stitched image\n",
    "plt.imshow(dst, cmap='gray')\n",
    "plt.show()\n"
   ]
  }
 ],
 "metadata": {
  "kernelspec": {
   "display_name": "Python 3.8.0 64-bit",
   "language": "python",
   "name": "python3"
  },
  "language_info": {
   "codemirror_mode": {
    "name": "ipython",
    "version": 3
   },
   "file_extension": ".py",
   "mimetype": "text/x-python",
   "name": "python",
   "nbconvert_exporter": "python",
   "pygments_lexer": "ipython3",
   "version": "3.8.0"
  },
  "orig_nbformat": 4,
  "vscode": {
   "interpreter": {
    "hash": "9650cb4e16cdd4a8e8e2d128bf38d875813998db22a3c986335f89e0cb4d7bb2"
   }
  }
 },
 "nbformat": 4,
 "nbformat_minor": 2
}
