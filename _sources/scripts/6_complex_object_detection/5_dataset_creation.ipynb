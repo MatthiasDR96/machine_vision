{
 "cells": [
  {
   "attachments": {},
   "cell_type": "markdown",
   "metadata": {},
   "source": [
    "# Dataset Creation\n",
    "In this notebook, the creation of a simple annotated dataset for image classification tasks will be covered. The dataset will be created in PyTorch because these are then compatible with the use of pre-trained torch models. "
   ]
  },
  {
   "cell_type": "code",
   "execution_count": 3,
   "metadata": {},
   "outputs": [
    {
     "name": "stderr",
     "output_type": "stream",
     "text": [
      "c:\\Python39\\lib\\site-packages\\tqdm\\auto.py:21: TqdmWarning: IProgress not found. Please update jupyter and ipywidgets. See https://ipywidgets.readthedocs.io/en/stable/user_install.html\n",
      "  from .autonotebook import tqdm as notebook_tqdm\n"
     ]
    }
   ],
   "source": [
    "# Imports\n",
    "import os\n",
    "import torch\n",
    "import torchvision\n",
    "import numpy as np\n",
    "import matplotlib.pyplot as plt\n",
    "from torchvision import datasets, transforms"
   ]
  },
  {
   "cell_type": "code",
   "execution_count": 4,
   "metadata": {},
   "outputs": [],
   "source": [
    "# Normalization parameters (comuted from numerous images)\n",
    "mean = np.array([0.5, 0.5, 0.5])\n",
    "std = np.array([0.25, 0.25, 0.25])\n",
    "\n",
    "# Define transforms for the dataset \n",
    "data_transforms = {\n",
    "    'train': transforms.Compose([\n",
    "        transforms.ToTensor(),\n",
    "        transforms.Normalize(mean,std)\n",
    "    ]),\n",
    "    'valid': transforms.Compose([\n",
    "        transforms.ToTensor(), \n",
    "        transforms.Normalize(mean,std)\n",
    "    ])\n",
    "}"
   ]
  },
  {
   "attachments": {},
   "cell_type": "markdown",
   "metadata": {},
   "source": [
    "We will create a tiny custom dataset of images from 4 different cartoons (Looney Tunes, The Simpsons, Tom & Jerry, Scooby-Doo). The images can be stored in a local folder. The corresponding labels are defined in the name of the folder."
   ]
  },
  {
   "attachments": {},
   "cell_type": "markdown",
   "metadata": {},
   "source": [
    "The images are loaded with the datasets.Imagefolder function. These datasets are then read with the Dataloader function. We can define the size of the batches here."
   ]
  },
  {
   "cell_type": "code",
   "execution_count": 5,
   "metadata": {},
   "outputs": [
    {
     "name": "stdout",
     "output_type": "stream",
     "text": [
      "In the train dataset are 8 images\n",
      "In the valid dataset are 4 images\n",
      "These are the classes: ['Looney Tunes', 'Scooby Doo', 'The Simpsons', 'Tom & Jerry']\n"
     ]
    }
   ],
   "source": [
    "# Image folder object to load images from folders\n",
    "train_datasets = datasets.ImageFolder(os.path.join('../../data/custom_dataset', 'train'), data_transforms['train'])\n",
    "valid_dataset = datasets.ImageFolder(os.path.join('../../data/custom_dataset', 'valid'), data_transforms['valid'])\n",
    "datasets_dict = {'train': train_datasets, 'valid': valid_dataset}\n",
    "\n",
    "# Image dataloaders to load data in batches\n",
    "train_loader = torch.utils.data.DataLoader(datasets_dict['train'], batch_size=4, shuffle=True)\n",
    "valid_loader = torch.utils.data.DataLoader(datasets_dict['valid'], batch_size=4, shuffle=True)\n",
    "dataloaders_dict = {'train': train_loader, 'valid': valid_loader}\n",
    "\n",
    "# Get size of datasets\n",
    "for key in datasets_dict.keys():\n",
    "   print(\"In the \" + key + \" dataset are \" + str(len(datasets_dict[key])) + \" images\")\n",
    "\n",
    "# Get classes\n",
    "class_names = datasets_dict['train'].classes\n",
    "print(\"These are the classes: \" + str(class_names))"
   ]
  }
 ],
 "metadata": {
  "kernelspec": {
   "display_name": "venv",
   "language": "python",
   "name": "python3"
  },
  "language_info": {
   "codemirror_mode": {
    "name": "ipython",
    "version": 3
   },
   "file_extension": ".py",
   "mimetype": "text/x-python",
   "name": "python",
   "nbconvert_exporter": "python",
   "pygments_lexer": "ipython3",
   "version": "3.9.0"
  },
  "orig_nbformat": 4,
  "vscode": {
   "interpreter": {
    "hash": "2f418a02590753b7a1c4ceaff2830d9c98c19de9bf29356c9d5ba509b644e4e8"
   }
  }
 },
 "nbformat": 4,
 "nbformat_minor": 2
}
